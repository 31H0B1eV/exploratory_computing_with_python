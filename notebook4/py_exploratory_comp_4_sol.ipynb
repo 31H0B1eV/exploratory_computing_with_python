{
 "cells": [
  {
   "cell_type": "markdown",
   "metadata": {},
   "source": [
    "<figure>\n",
    "  <IMG SRC=\"https://raw.githubusercontent.com/mbakker7/exploratory_computing_with_python/master/tudelft_logo.png\" WIDTH=250 ALIGN=\"right\">\n",
    "</figure>\n",
    "\n",
    "# Exploratory Computing with Python\n",
    "*Developed by Mark Bakker*"
   ]
  },
  {
   "cell_type": "markdown",
   "metadata": {},
   "source": [
    "## Notebook 4: Functions\n",
    "###A bit more about packages\n",
    "A package is a set of Python functions. When we want to use functions from the package, we need to import it. There are many different ways to import packages. The most basic syntax is\n",
    "\n",
    "`import numpy`\n",
    "\n",
    "After which any function in `numpy` can be called as `numpy.function()`. If you don't like the name of the package, for example because it is long, you can change the name. We have done this by renaming `numpy` to `np`, which is pretty standard in exploratory computing. After `import numpy as np`, all functions in `numpy` can be called as `np.function()`. \n",
    "\n",
    "Packages can also have subpackages. For example, the `numpy` package has a subpackage called `random`, which has a bunch of functions to deal with random variables. If the `numpy` package is imported with `import numpy as np`, functions in the `random` subpackage can be called as `np.random.function()`. \n",
    "\n",
    "If you only need one specific function, you don't have to import the entire package. For example, if you only want the cosine function of the numpy package, you may import it as `from numpy import cos`, after which you can simply call the cosine function as `cos()`. To make things really crazy, you can even rename the function. For example `from numpy import cos as newname` after which you can call the function `newname()` to compute the cosine. \n",
    "\n",
    "In the previous Notebooks we always imported `numpy` and called it `np` and we imported the plotting part of `matplotlib` and called it `plt`. Both are standard names in the Python community. The third statement we added is `%matplotlib inline`. This latter command is an IPython command and not a Python command. It will only work in IPython and is called a magic command. All magic commands are preceded with a `%`. The stament `%matplotlib inline` puts all figures in the Notebook rather than in separate windows. \n",
    "\n",
    "Enough about packages for now. Let's start the way we always start."
   ]
  },
  {
   "cell_type": "code",
   "execution_count": 2,
   "metadata": {
    "collapsed": false
   },
   "outputs": [
    {
     "name": "stdout",
     "output_type": "stream",
     "text": [
      "\n"
     ]
    }
   ],
   "source": [
    "import matplotlib.pyplot as plt\n",
    "import numpy as np\n",
    "%matplotlib inline"
   ]
  },
  {
   "cell_type": "markdown",
   "metadata": {},
   "source": [
    "### Functions\n",
    "Functions are an essential part of a programming language.\n",
    "You already used many functions like `plot` or `array`.\n",
    "But you can also define your own functions.\n",
    "To define a new function, use the `def` command. After `def` follows the name of the function and then between parentheses the arguments of the function and finally a colon. After the colon you indent until you are done with the function. The last line of the function should be `return` followed by what you want to return. For example, consider the following function of $x$:\n",
    "\n",
    "$f(x)= \\cos(x) \\qquad x <0$\n",
    "\n",
    "$f(x) = \\exp(-x) \\qquad x \\ge 0$\n",
    "\n",
    "Let's implement $f(x)$ in a function called `func`. There is only one input argument `x`. "
   ]
  },
  {
   "cell_type": "code",
   "execution_count": 2,
   "metadata": {
    "collapsed": false
   },
   "outputs": [
    {
     "name": "stdout",
     "output_type": "stream",
     "text": [
      "0.0497870683679\n"
     ]
    }
   ],
   "source": [
    "def func(x):\n",
    "    if x < 0:\n",
    "        f = np.cos(x)\n",
    "    else:\n",
    "        f = np.exp(-x)\n",
    "    return f\n",
    "print func(3)"
   ]
  },
  {
   "cell_type": "markdown",
   "metadata": {},
   "source": [
    "Once you define a function in Python, you can call it whenever you want during the session. So we can call it again"
   ]
  },
  {
   "cell_type": "code",
   "execution_count": 3,
   "metadata": {
    "collapsed": false
   },
   "outputs": [
    {
     "name": "stdout",
     "output_type": "stream",
     "text": [
      "-0.416146836547\n"
     ]
    }
   ],
   "source": [
    "print func(-2)"
   ]
  },
  {
   "cell_type": "markdown",
   "metadata": {},
   "source": [
    "Note that once you have defined the function, typing \n",
    "\n",
    "`func(` \n",
    "\n",
    "and waiting a moment will provide you with the input arguments of the function in a little pop-up window. That is not very interesting for this case, as the input argument is only x, but is very helpful when there are multiple input arguments. You can also provide additional documentation of your function. Put the documentation at the top of the indented block and put it between triple quotes. Once you run the function below, it is defined, so in the code cell below you can type `func(` and see the documentation you just provided"
   ]
  },
  {
   "cell_type": "code",
   "execution_count": 4,
   "metadata": {
    "collapsed": false
   },
   "outputs": [],
   "source": [
    "def func(x):\n",
    "    '''First Python function\n",
    "    written by Student X'''\n",
    "    if x < 0:\n",
    "        f = np.cos(x)\n",
    "    else:\n",
    "        f = np.exp(-x)\n",
    "    return f"
   ]
  },
  {
   "cell_type": "code",
   "execution_count": 4,
   "metadata": {
    "collapsed": false
   },
   "outputs": [],
   "source": []
  },
  {
   "cell_type": "markdown",
   "metadata": {},
   "source": [
    "The names of the arguments of a function are the names used inside the function. They have no relationship to the names used outside the function. When using a variable as the argument of a function, only the *values* get passed to the function. In the example below, the *value* of `y` is passed as the first argument ot the function `func`. Inside the function, this value is used for the variable `x`."
   ]
  },
  {
   "cell_type": "code",
   "execution_count": 5,
   "metadata": {
    "collapsed": false
   },
   "outputs": [
    {
     "name": "stdout",
     "output_type": "stream",
     "text": [
      "func(2): 0.135335283237\n"
     ]
    }
   ],
   "source": [
    "y = 2\n",
    "print 'func(2):',func(y)"
   ]
  },
  {
   "cell_type": "markdown",
   "metadata": {},
   "source": [
    "###Exercise 1. <a name=\"back1\"></a>First function\n",
    "Write a Python function for the following function:\n",
    "\n",
    "$f(x)=e^{-\\alpha x}\\cos(x)$\n",
    "\n",
    "The function should take `x` and `alpha` as input arguments and return the function value. Give your function a unique name (if you also call it `func` it will overwrite the `func` function that we defined above). Make a plot of `f` vs. `x` for `x` going from 0 to $10\\pi$ using two different values of `alpha`: 0.1 and 0.2. Add a legend and label the axes."
   ]
  },
  {
   "cell_type": "code",
   "execution_count": 5,
   "metadata": {
    "collapsed": false
   },
   "outputs": [],
   "source": []
  },
  {
   "cell_type": "markdown",
   "metadata": {},
   "source": [
    "<a href=\"#ex1answer\">Answer to Exercise 1</a>"
   ]
  },
  {
   "cell_type": "markdown",
   "metadata": {},
   "source": [
    "###Keyword arguments\n",
    "Functions may have multiple input arguments followed by keyword arguments. Arguments *must* be entered and must be entered in the order defined. Keyword arguments don't need to be entered. When they are not entered, the default value is used. Keyword arguments may be given in any order as long as they come after the regular arguments. If you specify the keyword arguments in the order they are defined in the argument list, you don't even need to preceed them with the keyword, but it is saver to write the keywords out and it makes your code more readable. For example, the function $f(x)=A\\cos(\\pi x+\\theta)$ can be written with keyword arguments for $A$ and $n$ as follows."
   ]
  },
  {
   "cell_type": "code",
   "execution_count": 6,
   "metadata": {
    "collapsed": false
   },
   "outputs": [
    {
     "name": "stdout",
     "output_type": "stream",
     "text": [
      "-1.0\n",
      "-2.0\n",
      "-1.41421356237\n",
      "-1.41421356237\n",
      "-0.707106781187\n"
     ]
    }
   ],
   "source": [
    "def testfunc(x,A=1,theta=0):\n",
    "    return A * np.cos(np.pi*x+theta)\n",
    "print testfunc(1)  # Uses default A=1,theta=0: cos(pi)\n",
    "print testfunc(1,A=2)  # Now A=2, and theta is still 0: 2*cos(pi)\n",
    "print testfunc(1,A=2,theta=np.pi/4)  # Now A=2, theta=pi/4: 2*cos(5pi/4) \n",
    "print testfunc(1,theta=np.pi/4,A=2)  # Same as above: 2*cos(5pi/4)\n",
    "print testfunc(1,theta=np.pi/4)  # Now theta=pi/4, and A is still 1: cos(5pi/4)"
   ]
  },
  {
   "cell_type": "markdown",
   "metadata": {},
   "source": [
    "###Local variables\n",
    "Variables declared inside a function can only be used inside that function. The outside of a function doesn't know about the variables used inside the function, except for the variables that are returned by the function. In the code below, remove the `#` before `print a` and you will get an error message, as `a` is a local variable inside function `localtest` only (then put the `#` back, else you cannot run your entire Notebook anymore with the Cell $\\to$ Run All menu command)."
   ]
  },
  {
   "cell_type": "code",
   "execution_count": 7,
   "metadata": {
    "collapsed": false
   },
   "outputs": [
    {
     "name": "stdout",
     "output_type": "stream",
     "text": [
      "17\n"
     ]
    }
   ],
   "source": [
    "def localtest(x):\n",
    "    a = 3\n",
    "    b = 5\n",
    "    return a*x + b\n",
    "print localtest(4)\n",
    "# print a  # Will cause an error, as 'a' is not known outside function "
   ]
  },
  {
   "cell_type": "markdown",
   "metadata": {},
   "source": [
    "###Three types of variables inside a function\n",
    "There are actually three types of variables inside a function. We already learned about two of them: variables passed to the function through the argument list, like `x` in the function above, and local variables, like `a` and `b` in the function above. The third type are variables defined outside the function but not passed to the function through the argument list. When a variable is used inside a Python function, Python first checks whether the variable has been defined locally. If not, it checkes whether the variable is passed to the function through the argument list. And if that is not the case, Python checks whether the variable is defined outside the function, from the place the function was called. If that is not the case either, it will throw an error message. It is considered good coding practice to pass variables to a function when they are needed inside a function, rather than counting on Python to *find* the variable outside the function; it will likely lead to fewer coding errors as well.\n",
    "\n",
    "Note, however, that when a variable is declared locally, Python will not check whether that variable is also declared outside the function. It will happily create a new variable with the same name inside the function. It is important to realize the difference between these different types, so let's do a few examples."
   ]
  },
  {
   "cell_type": "code",
   "execution_count": 8,
   "metadata": {
    "collapsed": false
   },
   "outputs": [
    {
     "name": "stdout",
     "output_type": "stream",
     "text": [
      "17\n",
      "17\n"
     ]
    }
   ],
   "source": [
    "def test1(x):\n",
    "    a = 3\n",
    "    b = 5\n",
    "    return a*x + b\n",
    "print test1(4)\n",
    "\n",
    "a = 3\n",
    "def test2(x):\n",
    "    b = 5\n",
    "    return a*x + b\n",
    "print test2(4)  # Also works, as 'a' is defined outside test2"
   ]
  },
  {
   "cell_type": "markdown",
   "metadata": {},
   "source": [
    "In the following function, we define variable `var1` outside the function `test3`. The function `test3` doesn't take any input arguments (but it still needs the parentheses, else Python doesn't know it is a function!), but it creates a local variable `var1` as well. This local `var1` variable is only known inside the function `test3` and doesn't effect the value of `var1` outside function `test3`."
   ]
  },
  {
   "cell_type": "code",
   "execution_count": 9,
   "metadata": {
    "collapsed": false
   },
   "outputs": [
    {
     "name": "stdout",
     "output_type": "stream",
     "text": [
      "Goodmorning, var1 equals 4\n",
      "value of var1 outside test3: 8\n"
     ]
    }
   ],
   "source": [
    "var1 = 8\n",
    "def test3():\n",
    "    var1 = 4\n",
    "    print 'Goodmorning, var1 equals',var1\n",
    "test3()\n",
    "print 'value of var1 outside test3:',var1"
   ]
  },
  {
   "cell_type": "markdown",
   "metadata": {},
   "source": [
    "###Functions are building blocks that need to be tested separately\n",
    "Functions are the building blocks of a computer code. They represent a well defined functionality, which means they can *and should* be tested separately. So make it a habit to test whether your function does what you intended it to do. Sometimes it is easy to test a function: you can compare the value to a hand calculation, for example. Other times it is more difficult, and you need to write some additional code to test the function. It is always worthwhile to do that. If you test your functions well, it will aid you in debugging your code, because you know that the error is not inside the function."
   ]
  },
  {
   "cell_type": "markdown",
   "metadata": {},
   "source": [
    "###Exercise 2, <a name=\"back2\"></a>Stream function for flow around a cylinder\n",
    "Consider two-dimensional inviscid fluid flow (potential flow) around a cylinder.\n",
    "The origin of the coordinate system is at the center of the cylinder.\n",
    "The stream function is a function that is constant along stream lines. \n",
    "The stream function $\\psi$ is a function of polar coordinates $r$ and $\\theta$. The stream function is constant and equal to zero on the cylinder and doesn't really exist inside the cylinder, so let's make it zero there, like it is on the cylinder.\n",
    "\n",
    "$\\begin{split}\n",
    "\\psi &= 0 \\qquad r\\le R \\\\\n",
    "\\psi &= U(r-R^2/r)\\sin(\\theta) \\qquad r\\ge R\n",
    "\\end{split}$\n",
    "\n",
    "where $U$ is the flow in the $x$-direction, $r$ is the radial distance from the center of the cylinder, $\\theta$ is the angle, and $R$ is the radius of the cylinder. You may recall it is not always easy to compute the correct angle when given a value of $x$ and $y$, as the regular arctan function returns a value between $-\\pi/2$ and $+\\pi/2$ (radians), while if $x=-2$ and $y=2$, the angle should be $3\\pi/4$.\n",
    "`numpy` has a very cool function to compute the correct angle between $-\\pi$ and $+\\pi$ given the $x$ and $y$ coordinates. The function is `arctan2(y,x)`. Note that the function takes as its *first* argument `y` and as its *second* argument `x`.  \n",
    "\n",
    "Write a function that computes the stream function for flow around a cylinder. The function should take two arguments, `x` and `y`, and two keyword arguments, `U` and `R`, and should return the stream function value. If you write the function correctly, it should give `psi(2, 4, U=1.0, R=1.0) = 3.8`, and `psi(0.5, 0, U=1.0, R=1.0) = 0` (inside the cylinder)."
   ]
  },
  {
   "cell_type": "code",
   "execution_count": 9,
   "metadata": {
    "collapsed": false
   },
   "outputs": [],
   "source": []
  },
  {
   "cell_type": "markdown",
   "metadata": {},
   "source": [
    "<a href=\"#ex2answer\">Answer to Exercise 2</a>"
   ]
  },
  {
   "cell_type": "markdown",
   "metadata": {},
   "source": [
    "###Vectorization of a function\n",
    "Not all functions can be called with an array of values as input argument. For example, the function `func` defined at the beginning of this notebook doesn't work with an array of `x` values. Try it out:"
   ]
  },
  {
   "cell_type": "code",
   "execution_count": 10,
   "metadata": {
    "collapsed": false
   },
   "outputs": [],
   "source": [
    "def func(x):\n",
    "    if x < 0:\n",
    "        f = np.cos(x)\n",
    "    else:\n",
    "        f = np.exp(-x)\n",
    "    return f\n",
    "x = np.linspace(-6,6,100)\n",
    "#y = func(x) # Run this line after removing the # to see the error that occurs. Then put the # back"
   ]
  },
  {
   "cell_type": "markdown",
   "metadata": {},
   "source": [
    "The reason this doesn't work is that Python doesn't know what to do with the line \n",
    "\n",
    "`if x < 0` \n",
    "\n",
    "when `x` contains many values. Hence the error message \n",
    "\n",
    "`The truth value of an array with more than one element is ambiguous` \n",
    "\n",
    "For some values of `x` the `if` statement may be `True`, for others it may be `False`. A simple way around this problem is to vectorize the function. That means we create a new function, let's call it `funcvec`, that is a vectorized form of `func` and can be called with an array as an argument (this is by far the easiest but not necessarily the computationally fastest way to make sure a function can be called with an array as an argument)"
   ]
  },
  {
   "cell_type": "code",
   "execution_count": 11,
   "metadata": {
    "collapsed": false
   },
   "outputs": [
    {
     "data": {
      "text/plain": [
       "[<matplotlib.lines.Line2D at 0x1064e4fd0>]"
      ]
     },
     "execution_count": 11,
     "metadata": {},
     "output_type": "execute_result"
    },
    {
     "data": {
      "image/png": "[encoded data removed]",
      "text/plain": [
       "<matplotlib.figure.Figure at 0x1062a7410>"
      ]
     },
     "metadata": {},
     "output_type": "display_data"
    }
   ],
   "source": [
    "funcvec = np.vectorize(func)\n",
    "x = np.linspace(-6,6,100)\n",
    "y = funcvec(x)\n",
    "plt.plot(x,y)"
   ]
  },
  {
   "cell_type": "markdown",
   "metadata": {},
   "source": [
    "Back now to the problem of flow around a clinder. Contours of the stream function represent stream lines around the cylinder. To make a contour plot, the function to be contoured needs to be evaluated on a grid of points. The grid of points and an array with the values of the stream function at these points can be passed to a contouring routine to create a contour plot. To create a grid of points, use the function `meshgrid` which takes as input a range of `x` values and a range of `y` values, and returns a grid of `x` values and a grid of `y` values. For example, to have 5 points in x-direction from -1 to +1, and 3 points in y-direction from 0 to 10:"
   ]
  },
  {
   "cell_type": "code",
   "execution_count": 12,
   "metadata": {
    "collapsed": false
   },
   "outputs": [
    {
     "name": "stdout",
     "output_type": "stream",
     "text": [
      "x values\n",
      "[[-1.  -0.5  0.   0.5  1. ]\n",
      " [-1.  -0.5  0.   0.5  1. ]\n",
      " [-1.  -0.5  0.   0.5  1. ]]\n",
      "y values\n",
      "[[  0.   0.   0.   0.   0.]\n",
      " [  5.   5.   5.   5.   5.]\n",
      " [ 10.  10.  10.  10.  10.]]\n"
     ]
    }
   ],
   "source": [
    "x,y = np.meshgrid( np.linspace(-1,1,5), np.linspace(0,10,3) ) \n",
    "print 'x values'\n",
    "print x\n",
    "print 'y values'\n",
    "print y"
   ]
  },
  {
   "cell_type": "markdown",
   "metadata": {},
   "source": [
    "###Exercise 3, <a name=\"back3\"></a>Contour plot for flow around a cylinder\n",
    "Evaluate the function for the stream function around a cylinder with radius 1.0 on a grid of 100 by 100 points, where `x` varies from -3 to +3, and `y` varies from -2 to 2. Evaluate the stream function on the entire grid (you need to create a vectorized version of the function you wrote to compute the stream function). Then use the `np.contour` function to create a contour plot (`help(np.contour)` or the matplotlib gallery). You need to use the command `plt.axis('equal')`, so that the scales along the axes are equal and the circle looks like a circle rather than an ellipse. Finally, you may want to add a nice circular patch using the `fill` command and specifying a bunch of $x$ and $y$ values around the circumference of the cylinder."
   ]
  },
  {
   "cell_type": "code",
   "execution_count": 12,
   "metadata": {
    "collapsed": false
   },
   "outputs": [],
   "source": []
  },
  {
   "cell_type": "markdown",
   "metadata": {},
   "source": [
    "<a href=\"#ex3answer\">Answer to Exercise 3</a>"
   ]
  },
  {
   "cell_type": "markdown",
   "metadata": {},
   "source": [
    "###Return multiple *things*\n",
    "An assignment can assign values to multiple variables in one statement using the following syntax"
   ]
  },
  {
   "cell_type": "code",
   "execution_count": 13,
   "metadata": {
    "collapsed": false
   },
   "outputs": [
    {
     "name": "stdout",
     "output_type": "stream",
     "text": [
      "a: 4\n",
      "b: 3\n",
      "a: 27\n",
      "b: [0 1 2 3]\n",
      "c: hello\n"
     ]
    }
   ],
   "source": [
    "a,b = 4,3\n",
    "print 'a:',a\n",
    "print 'b:',b\n",
    "a,b,c = 27,np.arange(4),'hello'\n",
    "print 'a:',a\n",
    "print 'b:',b\n",
    "print 'c:',c"
   ]
  },
  {
   "cell_type": "markdown",
   "metadata": {},
   "source": [
    "Similarly, a function may return one value or one array, or multiple values, multiple arrays, or whatever the programmer decides to return (including nothing, of course). When multiple *things* are returned, they are returned as a tuple. They can be stored as a tuple, or, if the user knows how many *things* are returned, they can be stored in individual variables right away (you alredy used this syntax with the `meshgrid` function)"
   ]
  },
  {
   "cell_type": "code",
   "execution_count": 14,
   "metadata": {
    "collapsed": false
   },
   "outputs": [
    {
     "name": "stdout",
     "output_type": "stream",
     "text": [
      "<type 'tuple'>\n",
      "[ 100.    4.    4.    4.    4.]\n",
      "a: 33\n",
      "b: [ 100.    4.    4.    4.    4.]\n",
      "c: this works great!\n"
     ]
    }
   ],
   "source": [
    "def newfunc():\n",
    "    dump = 4 * np.ones(5)\n",
    "    dump[0] = 100\n",
    "    return 33,dump,'this works great!'\n",
    "test = newfunc()\n",
    "print type(test)\n",
    "print test[1] \n",
    "a,b,c = newfunc()\n",
    "print 'a:',a\n",
    "print 'b:',b\n",
    "print 'c:',c"
   ]
  },
  {
   "cell_type": "markdown",
   "metadata": {},
   "source": [
    "###Exercise 4, <a name=\"back4\"></a>Streamplot of flow around a cylinder\n",
    "The radial and tangential components of the velocity vector $\\vec{v}=(v_r,v_\\theta)$ for inviscid fluid flow around a cylinder are given by\n",
    "\n",
    "$\\begin{split}\n",
    "v_r&=U(1-R^2/r^2)\\cos(\\theta) \\qquad r\\ge R \\\\\n",
    "v_\\theta&=-U(1+R^2/r^2)\\sin(\\theta) \\qquad r\\ge R\n",
    "\\end{split}$\n",
    "\n",
    "and is zero otherwise. The $x$ and $y$ components of the velocity vector may be obtained from the radial and tangential components as\n",
    "\n",
    "$\\begin{split}\n",
    "v_x&=v_r\\cos(\\theta) - v_\\theta\\sin(\\theta) \\\\\n",
    "v_y &= v_r\\sin(\\theta) + v_\\theta\\cos(\\theta) \n",
    "\\end{split}$\n",
    "\n",
    "Write a function that returns the $x$ and $y$ components of the velocity vector for fluid flow around a cylinder. \n",
    "Test your function by making sure that at $(x,y)=(2,3)$ the velocity vector is $(v_x,v_y)=(1.0296,-0.0710)$.\n",
    "Compute the $x$ and $y$ components of the velocity vector (vectorization won't help here, as your function returns two values, so you need a double loop) on a grid of 50 by 50 points where `x` varies from -3 to +3, and `y` varies from -2 to 2. Use $U=1$ and $R=1$. Create a stream plot using the cool function `streamplot`, which takes four arguments: `x`, `y`, `vx`, `vy` (use `help(np.streamplot)`)."
   ]
  },
  {
   "cell_type": "code",
   "execution_count": 14,
   "metadata": {
    "collapsed": false
   },
   "outputs": [],
   "source": []
  },
  {
   "cell_type": "markdown",
   "metadata": {},
   "source": [
    "<a href=\"#ex4answer\">Answer to Exercise 4</a>"
   ]
  },
  {
   "cell_type": "markdown",
   "metadata": {},
   "source": [
    "###Exercise 5, <a name=\"back5\"></a>Derivative of a function\n",
    "The function `func`, which we wrote earlier in this notebook, implements the following function\n",
    "\n",
    "$f(x)= \\cos(x) \\qquad x <0$\n",
    "\n",
    "$f(x) = \\exp(-x) \\qquad x \\ge 0$\n",
    "\n",
    "Derive an analytic expression (by hand) for the first derivative of $f(x)$ and implement it in a Python function. Test your function by comparing its output to a numerical derivative using a central difference scheme \n",
    "\n",
    "$\\frac{\\text{d}f}{\\text{d}x}\\approx \\frac{f(x+d)-f(x-d)}{2d}$\n",
    "\n",
    "where $d$ is a small number. Test your function for both $x<0$ and $x>0$."
   ]
  },
  {
   "cell_type": "code",
   "execution_count": 14,
   "metadata": {
    "collapsed": false
   },
   "outputs": [],
   "source": []
  },
  {
   "cell_type": "markdown",
   "metadata": {},
   "source": [
    "<a href=\"#ex5answer\">Answer to Exercise 5</a>"
   ]
  },
  {
   "cell_type": "markdown",
   "metadata": {},
   "source": [
    "###Using a function as the argument of another function\n",
    "So far, we have used single values or arrays as input arguments of functions. But we can also use a function as one of the input arguments of another function. Consider, for example, a function called `takesquare` that takes two input arguments: a function `finput` and a value `x`, and it returns the function `finput` evaluated at `x` and then squared."
   ]
  },
  {
   "cell_type": "code",
   "execution_count": 15,
   "metadata": {
    "collapsed": false
   },
   "outputs": [],
   "source": [
    "def takesquare(finput,x):\n",
    "    return finput(x)**2"
   ]
  },
  {
   "cell_type": "markdown",
   "metadata": {},
   "source": [
    "We can now call `takesquare` with any function $f$ that can be called as $f(x)$ and returns one value. For example, we can call it with the cosine function, and we can test right away whether we got the right answer"
   ]
  },
  {
   "cell_type": "code",
   "execution_count": 16,
   "metadata": {
    "collapsed": false
   },
   "outputs": [
    {
     "name": "stdout",
     "output_type": "stream",
     "text": [
      "takesquare result: 0.173178189568\n",
      "correct value is:  0.173178189568\n"
     ]
    }
   ],
   "source": [
    "print 'takesquare result:',takesquare(np.cos,2)\n",
    "print 'correct value is: ',np.cos(2)**2"
   ]
  },
  {
   "cell_type": "markdown",
   "metadata": {},
   "source": [
    "###Finding the zero of a function\n",
    "Finding the zero of a function is a common task in exploratory computing. Finding a zero is also referred to as *root finding*. There exist a number of methods to find the zero of a function varying from robust but slow (so it always finds a zero but it takes quite a few function evaluations) to fast but not so robust (it can find the zero very fast, but it won't always find it). Here we'll use the latter one.\n",
    "\n",
    "Consider the function $f(x)=0.5-\\text{e}^{-x}$. The function is zero when $x=-\\ln(0.5)$, but let's pretend we don't know that and try to find it using a root finding method. First, we need to write a Python function for $f(x)$."
   ]
  },
  {
   "cell_type": "code",
   "execution_count": 17,
   "metadata": {
    "collapsed": false
   },
   "outputs": [],
   "source": [
    "def f(x):\n",
    "    return 0.5 - np.exp(-x)"
   ]
  },
  {
   "cell_type": "markdown",
   "metadata": {},
   "source": [
    "We will use the method `fsolve` to find the zero of a function. `fsolve` is part of the `scipy.optimize` package. `fsolve` takes two arguments: the function for which we want to find the zero, and a starting value for the search (not surpisingly, the closer the starting value is to the root, the higher the chance that `fsolve` will find it)."
   ]
  },
  {
   "cell_type": "code",
   "execution_count": 18,
   "metadata": {
    "collapsed": false
   },
   "outputs": [
    {
     "name": "stdout",
     "output_type": "stream",
     "text": [
      "result of fsolve: [ 0.69314718]\n",
      "exact value:      0.69314718056\n",
      "f(x) at xzero:    [ 0.]\n"
     ]
    }
   ],
   "source": [
    "from scipy.optimize import fsolve\n",
    "xzero = fsolve(f,1)\n",
    "print 'result of fsolve:',xzero\n",
    "print 'exact value:     ',-np.log(0.5)\n",
    "print 'f(x) at xzero:   ',f(xzero)"
   ]
  },
  {
   "cell_type": "markdown",
   "metadata": {},
   "source": [
    "What now if you want to find the value of $x$ for which $f(x)=0.3$ (I know, it is $-\\ln(0.2)$). We could, of course, create a new function $f_2=f(x)-0.3$ and then try to find the zero of $f_2$. But if we do that, we might as well make it more generic. Let's try to find $f(x)=a$, so we create a function $f_2=f(x)-a$"
   ]
  },
  {
   "cell_type": "code",
   "execution_count": 19,
   "metadata": {
    "collapsed": false
   },
   "outputs": [],
   "source": [
    "def f2(x,a=0):\n",
    "    return f(x)-a"
   ]
  },
  {
   "cell_type": "markdown",
   "metadata": {},
   "source": [
    "When we use `fsolve` to find the zero of function `f2`, we need to pass it an additional argument: the value of `a`. This can be done using the keyword argument `args`, which is a tuple of additional arguments passed to the function for which `fsolve` tries to find a root. `args` can be multiple values, as long as they are separated by commas."
   ]
  },
  {
   "cell_type": "code",
   "execution_count": 20,
   "metadata": {
    "collapsed": false
   },
   "outputs": [
    {
     "name": "stdout",
     "output_type": "stream",
     "text": [
      "fsolve result: [ 1.60943791]\n",
      "exact value:   1.60943791243\n",
      "f(xzero):      [ 0.3]\n"
     ]
    }
   ],
   "source": [
    "xzero = fsolve(f2,1,args=(0.3))\n",
    "print 'fsolve result:',xzero\n",
    "print 'exact value:  ',-np.log(0.2)\n",
    "print 'f(xzero):     ',f(xzero)"
   ]
  },
  {
   "cell_type": "markdown",
   "metadata": {},
   "source": [
    "###Exercise <a name=\"back6\"></a>6\n",
    "The cumulative density distribution $F(x)$ of the Normal distribution is given by\n",
    "\n",
    "$F(x)=\\frac{1}{2}\\left[ 1 + \\text{erf}\\left(\\frac{x-\\mu}{\\sqrt{2\\sigma^2}}\\right)\\right] $\n",
    "\n",
    "where $\\mu$ is the mean, $\\sigma$ is the standard deviation, and erf is the error function. \n",
    "Recall the definition of a cumulative density distribution: When a random variable has a Normal distribution with mean $\\mu$ and standard deviation $\\sigma$, $F(x)$ is the probability that the random variable is less than $x$. Write a Python function for $F(x)$. The fist input argument should be $x$, followed by keyword arguments for $\\mu$ and $\\sigma$. The error function can be imported as\n",
    "\n",
    "`from scipy.special import erf`\n",
    "\n",
    "Test your function, for example by making sure that when $x=\\mu$, $F$ should return 0.5, and when $x=\\mu+1.96\\sigma$, $F$ should return 0.975 (remember that from your statistics class?).\n",
    "\n",
    "Next, find the value of $x$ for which $F(x)=p$, where $p$ is a probablity of interest (so it is between 0 and 1).\n",
    "Check you answer for $\\mu=3$, $\\sigma=2$, and find $x$ for $p=0.1$ and $p=0.9$. Substitute the roots you determine with `fsolve` back into $F(x)$ to make sure your code works properly."
   ]
  },
  {
   "cell_type": "code",
   "execution_count": 20,
   "metadata": {
    "collapsed": false
   },
   "outputs": [],
   "source": []
  },
  {
   "cell_type": "markdown",
   "metadata": {},
   "source": [
    "<a href=\"#ex6answer\">Answer to Exercise 6</a>"
   ]
  },
  {
   "cell_type": "markdown",
   "metadata": {},
   "source": [
    "###Answers to the exercises"
   ]
  },
  {
   "cell_type": "markdown",
   "metadata": {},
   "source": [
    "<a name=\"ex1answer\">Answer to Exercise 1</a>"
   ]
  },
  {
   "cell_type": "code",
   "execution_count": 21,
   "metadata": {
    "collapsed": false
   },
   "outputs": [
    {
     "data": {
      "text/plain": [
       "<matplotlib.legend.Legend at 0x107478390>"
      ]
     },
     "execution_count": 21,
     "metadata": {},
     "output_type": "execute_result"
    },
    {
     "data": {
      "image/png": "[encoded data removed]",
      "text/plain": [
       "<matplotlib.figure.Figure at 0x1072bb310>"
      ]
     },
     "metadata": {},
     "output_type": "display_data"
    }
   ],
   "source": [
    "def test(x,alpha):\n",
    "    return np.exp(-alpha*x) * np.cos(x)\n",
    "x = np.linspace(0,10*np.pi,100)\n",
    "y1 = test(x,0.1)  # This function can be called with an array\n",
    "y2 = test(x,0.2)\n",
    "plt.plot(x,y1,'b',label=r'$\\alpha$=0.1') # if you specify a label, it will automatically be used in the legend\n",
    "plt.plot(x,y2,'r',label=r'$\\alpha$=0.2')\n",
    "plt.xlabel('x')\n",
    "plt.ylabel('f(x)')\n",
    "plt.legend()"
   ]
  },
  {
   "cell_type": "markdown",
   "metadata": {},
   "source": [
    " <a href=\"#back1\">Back to Exercise 1</a>\n",
    "\n",
    "<a name=\"ex2answer\">Answer to Exercise 2</a>"
   ]
  },
  {
   "cell_type": "code",
   "execution_count": 22,
   "metadata": {
    "collapsed": false
   },
   "outputs": [
    {
     "name": "stdout",
     "output_type": "stream",
     "text": [
      "3.8\n",
      "0.0\n"
     ]
    }
   ],
   "source": [
    "def psi(x, y, U=1.0, R=1.0):\n",
    "    r = np.sqrt( x**2 + y**2 )\n",
    "    if r < R:\n",
    "        rv = 0.0\n",
    "    else:\n",
    "        theta = np.arctan2(y,x)\n",
    "        rv = U * (r - R**2 / r) * np.sin(theta)\n",
    "    return rv\n",
    "\n",
    "print psi(2, 4, U=1.0, R=1.0)\n",
    "print psi(0.5, 0, U=1.0, R=1.0)"
   ]
  },
  {
   "cell_type": "markdown",
   "metadata": {},
   "source": [
    "<a href=\"#back2\">Back to Exercise 2</a>\n",
    "\n",
    "<a name=\"ex3answer\">Answer to Exercise 3</a>"
   ]
  },
  {
   "cell_type": "code",
   "execution_count": 23,
   "metadata": {
    "collapsed": false
   },
   "outputs": [
    {
     "data": {
      "text/plain": [
       "(-3.0, 3.0, -2.0, 2.0)"
      ]
     },
     "execution_count": 23,
     "metadata": {},
     "output_type": "execute_result"
    },
    {
     "data": {
      "image/png": "[encoded data removed]",
      "text/plain": [
       "<matplotlib.figure.Figure at 0x1074bf950>"
      ]
     },
     "metadata": {},
     "output_type": "display_data"
    }
   ],
   "source": [
    "x,y = np.meshgrid( np.linspace(-3,3,100), np.linspace(-2,2,100) )\n",
    "psivec = np.vectorize(psi)\n",
    "p = psivec(x,y,R=1.0,U=1.0)\n",
    "plt.contour( x, y, p, 50 )\n",
    "alpha = np.linspace(0,2*np.pi,100)\n",
    "plt.fill(np.cos(alpha),np.sin(alpha),ec='g',fc='g')\n",
    "plt.axis('equal')"
   ]
  },
  {
   "cell_type": "markdown",
   "metadata": {},
   "source": [
    " <a href=\"#back3\">Back to Exercise 3</a>\n",
    "\n",
    "<a name=\"ex4answer\">Answer to Exercise 4</a>"
   ]
  },
  {
   "cell_type": "code",
   "execution_count": 5,
   "metadata": {
    "collapsed": false
   },
   "outputs": [
    {
     "name": "stdout",
     "output_type": "stream",
     "text": [
      "velocity at (2,3):  (1.029585798816568, -0.071005917159763177)\n"
     ]
    },
    {
     "data": {
      "image/png": "[encoded data removed]",
      "text/plain": [
       "<matplotlib.figure.Figure at 0x1067b52d0>"
      ]
     },
     "metadata": {},
     "output_type": "display_data"
    }
   ],
   "source": [
    "def velocity(x,y,U=1.0,R=1.0):\n",
    "    r = np.sqrt(x**2+y**2)\n",
    "    theta = np.arctan2(y,x)\n",
    "    if r > R:\n",
    "        vr =  U * (1-R**2/r**2) * np.cos(theta)\n",
    "        vt = -U * (1+R**2/r**2) * np.sin(theta)\n",
    "        vx = vr * np.cos(theta) - vt * np.sin(theta)\n",
    "        vy = vr * np.sin(theta) + vt * np.cos(theta)\n",
    "    else:\n",
    "        vx,vy = 0.0,0.0\n",
    "    return vx,vy\n",
    "print 'velocity at (2,3): ',velocity(2,3)\n",
    "x,y = np.meshgrid(np.linspace(-3,3,50),np.linspace(-2,2,50))\n",
    "vx,vy = np.zeros((50,50)), np.zeros((50,50))\n",
    "for i in range(50):\n",
    "    for j in range(50):\n",
    "        vx[i,j],vy[i,j] = velocity(x[i,j],y[i,j])\n",
    "alpha = np.linspace(0,2*np.pi,100)\n",
    "plt.fill(np.cos(alpha),np.sin(alpha),ec='g',fc='g')\n",
    "plt.streamplot(x,y,vx,vy)\n",
    "plt.axis('equal')\n",
    "plt.xlim(-3,3)\n",
    "plt.ylim(-2,2)"
   ]
  },
  {
   "cell_type": "markdown",
   "metadata": {},
   "source": [
    " <a href=\"#back4\">Back to Exercise 4</a>\n",
    "\n",
    "<a name=\"ex5answer\">Answer to Exercise 5</a>"
   ]
  },
  {
   "cell_type": "code",
   "execution_count": 25,
   "metadata": {
    "collapsed": false
   },
   "outputs": [
    {
     "name": "stdout",
     "output_type": "stream",
     "text": [
      "True value    0.841470984808\n",
      "Approx value  0.84147098478\n",
      "True value    -0.367879441171\n",
      "Approx value  -0.36787944116\n"
     ]
    }
   ],
   "source": [
    "def dfuncdx(x):\n",
    "    if x < 0:\n",
    "        rv = -np.sin(x)\n",
    "    else:\n",
    "        rv = -np.exp(-x)\n",
    "    return rv\n",
    "d = 1e-6\n",
    "x = -1\n",
    "dfdx = (func(x+d) - func(x-d)) / (2*d)\n",
    "print 'True value   ',dfuncdx(x)\n",
    "print 'Approx value ',dfdx\n",
    "x = 1\n",
    "dfdx = (func(x+d) - func(x-d)) / (2*d)\n",
    "print 'True value   ',dfuncdx(x)\n",
    "print 'Approx value ',dfdx"
   ]
  },
  {
   "cell_type": "markdown",
   "metadata": {},
   "source": [
    " <a href=\"#back5\">Back to Exercise 5</a>\n",
    "\n",
    "<a name=\"ex6answer\">Answer to Exercise 6</a>"
   ]
  },
  {
   "cell_type": "code",
   "execution_count": 26,
   "metadata": {
    "collapsed": false
   },
   "outputs": [
    {
     "name": "stdout",
     "output_type": "stream",
     "text": [
      "x=mu gives F(x)= 0.5\n",
      "x=mu+1.96sig gives:  0.975002104852\n",
      "x1,F(x1): [ 0.43689687] [ 0.1]\n",
      "x2,F(x2): [ 5.56310313] [ 0.9]\n"
     ]
    }
   ],
   "source": [
    "from scipy.special import erf\n",
    "def F(x,mu=0,sigma=1,p=0):\n",
    "    rv = 0.5 * (1.0 + erf( (x-mu) / np.sqrt(2*sigma**2) ) )\n",
    "    return rv - p\n",
    "print 'x=mu gives F(x)=',F(2,mu=2,sigma=1)\n",
    "print 'x=mu+1.96sig gives: ',F(2+1.96,mu=2,sigma=1)\n",
    "x1 = fsolve(F,3,args=(3,2,0.1))\n",
    "x2 = fsolve(F,3,args=(3,2,0.9))\n",
    "print 'x1,F(x1):',x1,F(x1,mu=3,sigma=2)\n",
    "print 'x2,F(x2):',x2,F(x2,mu=3,sigma=2)"
   ]
  },
  {
   "cell_type": "markdown",
   "metadata": {},
   "source": [
    "<a href=\"#back6\">Back to Exercise 6</a>"
   ]
  }
 ],
 "metadata": {
  "kernelspec": {
   "display_name": "Python 2",
   "language": "python",
   "name": "python2"
  },
  "language_info": {
   "codemirror_mode": {
    "name": "ipython",
    "version": 2
   },
   "file_extension": ".py",
   "mimetype": "text/x-python",
   "name": "python",
   "nbconvert_exporter": "python",
   "pygments_lexer": "ipython2",
   "version": "2.7.9"
  }
 },
 "nbformat": 4,
 "nbformat_minor": 0
}
