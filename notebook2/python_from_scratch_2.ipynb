{
 "metadata": {
  "name": "bouwplaats_q1_notebook2_sol"
 },
 "nbformat": 3,
 "nbformat_minor": 0,
 "worksheets": [
  {
   "cells": [
    {
     "cell_type": "markdown",
     "metadata": {},
     "source": [
      "#Python Programming Notebook 2: Arrays, Lists, Strings, and Images\n",
      "###One dimensional arrays\n",
      "Python can do math on arrays (it is really the numpy package, but you don't have to worry about that yet). \n",
      "There are many ways to create arrays. For example, you can enter the individual elements of an array"
     ]
    },
    {
     "cell_type": "code",
     "collapsed": false,
     "input": [
      "array([1,7,2,12])"
     ],
     "language": "python",
     "metadata": {},
     "outputs": [
      {
       "output_type": "pyout",
       "prompt_number": 6,
       "text": [
        "array([ 1,  7,  2, 12])"
       ]
      }
     ],
     "prompt_number": 6
    },
    {
     "cell_type": "markdown",
     "metadata": {},
     "source": [
      "Note that the `array` function takes one sequence of points between square brackets. \n",
      "Other functions to create arrays include `ones(shape)`, which creates an array of the specified `shape` filled with the value 1. \n",
      "There is an analogous function `zeros(shape)` which is the same as `0 * ones(shape)`. Next to the already mentioned `linspace` function there is the `arange(start,end,step)` \n",
      "function which creates an array starting at `start` taking steps equal to `step` and stopping before it reaches `end`. If you don't specify the `step`, \n",
      "it is set equal to 1. If you only specify one input value, it returns a sequence starting at 0 and incrementing by 1 until the specified value is reached (but again, it stops before it reaches that value)"
     ]
    },
    {
     "cell_type": "code",
     "collapsed": false,
     "input": [
      "print arange(1,7,1) # Note that it doesn't include 7\n",
      "print arange(5) # Starts at 0 end ends at 4, giving 5 numbers"
     ],
     "language": "python",
     "metadata": {},
     "outputs": [
      {
       "output_type": "stream",
       "stream": "stdout",
       "text": [
        "[1 2 3 4 5 6]\n",
        "[0 1 2 3 4]\n"
       ]
      }
     ],
     "prompt_number": 7
    },
    {
     "cell_type": "markdown",
     "metadata": {},
     "source": [
      "Recall that comments in Python code are preceded by a `#`. \n",
      "Arrays have a dimension. So far we have only used one-dimensional arrays. \n",
      "Hence the dimension is 1. \n",
      "For one-dimensional arrays, you can also compute the length, which is equal to the number of values"
     ]
    },
    {
     "cell_type": "code",
     "collapsed": false,
     "input": [
      "x = array([1,7,2,12])\n",
      "print ndim(x) # print the dimension of the array\n",
      "print len(x)  # print the length of the array"
     ],
     "language": "python",
     "metadata": {},
     "outputs": [
      {
       "output_type": "stream",
       "stream": "stdout",
       "text": [
        "1\n",
        "4\n"
       ]
      }
     ],
     "prompt_number": 1
    },
    {
     "cell_type": "markdown",
     "metadata": {},
     "source": [
      "The individual elements of an array can be accessed with their index. Indices start at 0. \n",
      "This may require a bit of getting used to. It means that the first value in the array has index 0. The index of an array is specified using square brackets."
     ]
    },
    {
     "cell_type": "code",
     "collapsed": false,
     "input": [
      "x = arange(20,30)\n",
      "print x\n",
      "print x[0]\n",
      "print x[5]"
     ],
     "language": "python",
     "metadata": {},
     "outputs": [
      {
       "output_type": "stream",
       "stream": "stdout",
       "text": [
        "[20 21 22 23 24 25 26 27 28 29]\n",
        "20\n",
        "25\n"
       ]
      }
     ],
     "prompt_number": 2
    },
    {
     "cell_type": "markdown",
     "metadata": {},
     "source": [
      "A range of indices may be specified using the colon syntax:\n",
      "`x[start:end before]` or `x[start:end before:step]`. If the `start` or `end before` isn't specified, 0 will be used. If the step isn't specified, 1 will be used. You can also start at the end and count back. Generally, the index of the end is not known. You can find out how long the array is and access the last value by typing `x[len(x)-1]` but it would be inconvenient to have to type `len(arrayname)` all the time. Luckily, there is a shortcut: `x[-1]` is the last value in the array. This all requires practice. Make sure you understand the following example:\n",
      "    "
     ]
    },
    {
     "cell_type": "code",
     "collapsed": false,
     "input": [
      "x = arange(20,30)\n",
      "print x\n",
      "print x[0:5]\n",
      "print x[:5] # same as previous one\n",
      "print x[3:7]\n",
      "print x[2:9:2] # step is 2\n",
      "print x[-1:4:-2] # starts at last one and stops before index 4 with step -2"
     ],
     "language": "python",
     "metadata": {},
     "outputs": [
      {
       "output_type": "stream",
       "stream": "stdout",
       "text": [
        "[20 21 22 23 24 25 26 27 28 29]\n",
        "[20 21 22 23 24]\n",
        "[20 21 22 23 24]\n",
        "[23 24 25 26]\n",
        "[22 24 26 28]\n",
        "[29 27 25]\n"
       ]
      }
     ],
     "prompt_number": 4
    },
    {
     "cell_type": "markdown",
     "metadata": {},
     "source": [
      "You can assign one value to a range of an array by specifying a range of indices, \n",
      "or you can assign an array to a range of another array, as long as the ranges have equal length. In the second example below, the first 5 values of `x` (`x[0:5]`) are given the values `[40,42,44,46,48]`."
     ]
    },
    {
     "cell_type": "code",
     "collapsed": false,
     "input": [
      "x = 20*ones(10)\n",
      "print x\n",
      "x[0:5] = 40\n",
      "print x\n",
      "x[0:5] = arange(40,50,2)\n",
      "print x"
     ],
     "language": "python",
     "metadata": {},
     "outputs": [
      {
       "output_type": "stream",
       "stream": "stdout",
       "text": [
        "[ 20.  20.  20.  20.  20.  20.  20.  20.  20.  20.]\n",
        "[ 40.  40.  40.  40.  40.  20.  20.  20.  20.  20.]\n",
        "[ 40.  42.  44.  46.  48.  20.  20.  20.  20.  20.]\n"
       ]
      }
     ],
     "prompt_number": 5
    },
    {
     "cell_type": "markdown",
     "metadata": {},
     "source": [
      "In the example below, it is meant to give the last 5 values of `x` the values [50,52,54,56,58], but there are some errors in the code. Remove the comment markers and run the code to see the error message. Then fix the code and run it again."
     ]
    },
    {
     "cell_type": "code",
     "collapsed": false,
     "input": [
      "#x[5:] = arange(50,62,1)\n",
      "#print x"
     ],
     "language": "python",
     "metadata": {},
     "outputs": [],
     "prompt_number": 6
    },
    {
     "cell_type": "markdown",
     "metadata": {},
     "source": [
      "***\n",
      "###Exercise 1, Arrays and indices\n",
      "Create an array of zeros with length 20. Change the first 5 values to 10. Change the next 10 values to a sequence starting at 12 and increase with steps of 2 to 30 -- do this with one command. Set the final 5 values to 30. Plot the value of the array on the y-axis vs. the index of the array on the x-axis. Draw vertical dashed lines at x=4 and x=14 (i.e, the section between the dashed lines is where the line increases from 10 to 30). Set the minimum and maximum values of the y-axis to 8 and 32 using the `ylim` command."
     ]
    },
    {
     "cell_type": "code",
     "collapsed": false,
     "input": [
      "x = zeros(20)\n",
      "x[:5] = 10\n",
      "x[5:15] = arange(12,31,2)\n",
      "x[15:] = 30\n",
      "plot(x)\n",
      "plot([4,4],[8,32],'k--')\n",
      "plot([14,14],[8,32],'k--')\n",
      "ylim(8,32)\n"
     ],
     "language": "python",
     "metadata": {},
     "outputs": [
      {
       "output_type": "pyout",
       "prompt_number": 2,
       "text": [
        "(8, 32)"
       ]
      },
      {
       "output_type": "display_data",
       "png": "[encoded data removed]",
       "text": [
        "<matplotlib.figure.Figure at 0x63e9c50>"
       ]
      }
     ],
     "prompt_number": 2
    },
    {
     "cell_type": "markdown",
     "metadata": {},
     "source": [
      "***"
     ]
    },
    {
     "cell_type": "markdown",
     "metadata": {},
     "source": [
      "## Arrays, Lists, and Tuples\n",
      "A one-dimensional array is a sequence of values that you can do math on. Next to the array, Python has several other data types that can store a sequence of values. The first one is called a `list` and is entered between square brackets. The second one is a tuple (you are right, strange name), and it is entered with parentheses. The big difference is that you can change the values of a list after you create them, and you can not do that with a tuple. Other than that, for now you just need to remember that they exist, and that you *cannot* do math with either lists or tuples. When you do `2 * alist` where `alist` is a list, you don't multiply all values in `alist` with the number 2. What happens is that you create a new list that contains `alist` twice (so it adds them back to back). The same holds for tuples. That can be very useful, but not when your intent is to do math. In the example below, the first value in a list is modified. Try to modify one of the values in `btuple` below and you will see that you get an error message:"
     ]
    },
    {
     "cell_type": "code",
     "collapsed": false,
     "input": [
      "alist = [1,2,3]\n",
      "print 'alist', alist\n",
      "btuple = (10,20,30)\n",
      "print 'btuple', btuple\n",
      "alist[0] = 7  # Since alist is a list, you can change values \n",
      "print 'modified alist', alist\n",
      "#btuple[0] = 100  # Will give an error\n",
      "#print 2*alist"
     ],
     "language": "python",
     "metadata": {},
     "outputs": [
      {
       "output_type": "stream",
       "stream": "stdout",
       "text": [
        "alist [1, 2, 3]\n",
        "btuple (10, 20, 30)\n",
        "modified alist [7, 2, 3]\n"
       ]
      }
     ],
     "prompt_number": 7
    },
    {
     "cell_type": "markdown",
     "metadata": {},
     "source": [
      "###Strings\n",
      "Strings are a very versatile data type, and we can easily spend an entire Notebook on strings. \n",
      "We will only make limited use of strings, so we keep treatment here to a bare minimum. Strings are like tuples in that every character in a string has an index. Each character or range of characters can be accessed, just like for tuples, but they cannot be changed. A string also has a length. "
     ]
    },
    {
     "cell_type": "code",
     "collapsed": false,
     "input": [
      "text = 'Goodmorning everybody'\n",
      "print len(text)\n",
      "print text[0]\n",
      "print text[0:12]"
     ],
     "language": "python",
     "metadata": {},
     "outputs": [
      {
       "output_type": "stream",
       "stream": "stdout",
       "text": [
        "21\n",
        "G\n",
        "Goodmorning \n"
       ]
      }
     ],
     "prompt_number": 5
    },
    {
     "cell_type": "markdown",
     "metadata": {},
     "source": [
      "When you add two strings, they are put back to back. When you want to combine text with a variable, you first need to change the variable to a string and then add the two strings"
     ]
    },
    {
     "cell_type": "code",
     "collapsed": false,
     "input": [
      "newtext = text + ' in the class'  # Adding two srings\n",
      "print newtext\n",
      "a = 7\n",
      "mes = 'The magic number is ' + str(a)  # Combining strings and numbers\n",
      "print mes"
     ],
     "language": "python",
     "metadata": {},
     "outputs": [
      {
       "output_type": "stream",
       "stream": "stdout",
       "text": [
        "Goodmorning everybody in the class\n",
        "The magic number is 7\n"
       ]
      }
     ],
     "prompt_number": 6
    },
    {
     "cell_type": "markdown",
     "metadata": {},
     "source": [
      "## Multi-dimensional arrays\n",
      "Arrays may have arbitrary dimensions (as long as they fit in your computer's memory). We will make frequent use of two-dimensional arrays. They can be created with any of the aforementioned functions by specifying the number of rows and columns of the array. Note that the number of rows and columns must be a tuple (so they need to be between parentheses), as the functions expect only one input argument, which may be either one number or a tuple of multiple numbers."
     ]
    },
    {
     "cell_type": "code",
     "collapsed": false,
     "input": [
      "x = ones((3,4)) # An array with 3 rows and 4 columns\n",
      "print x"
     ],
     "language": "python",
     "metadata": {},
     "outputs": [
      {
       "output_type": "stream",
       "stream": "stdout",
       "text": [
        "[[ 1.  1.  1.  1.]\n",
        " [ 1.  1.  1.  1.]\n",
        " [ 1.  1.  1.  1.]]\n"
       ]
      }
     ],
     "prompt_number": 8
    },
    {
     "cell_type": "markdown",
     "metadata": {},
     "source": [
      "You can change the size of the array to any shape using the `reshape` function as long as the total number of entries doesn't change. "
     ]
    },
    {
     "cell_type": "code",
     "collapsed": false,
     "input": [
      "x = arange(12)\n",
      "print x\n",
      "print reshape(x,(3,4))\n",
      "print reshape(x,(2,6))"
     ],
     "language": "python",
     "metadata": {},
     "outputs": [
      {
       "output_type": "stream",
       "stream": "stdout",
       "text": [
        "[ 0  1  2  3  4  5  6  7  8  9 10 11]\n",
        "[[ 0  1  2  3]\n",
        " [ 4  5  6  7]\n",
        " [ 8  9 10 11]]\n",
        "[[ 0  1  2  3  4  5]\n",
        " [ 6  7  8  9 10 11]]\n"
       ]
      }
     ],
     "prompt_number": 9
    },
    {
     "cell_type": "markdown",
     "metadata": {},
     "source": [
      "The index of a two-dimensional array is specified with two values, first the row index, then the column index."
     ]
    },
    {
     "cell_type": "code",
     "collapsed": false,
     "input": [
      "x = zeros((3,8))\n",
      "x[0,0] = 100\n",
      "x[1,4:] = 200  # Row with index 1, columns starting with 4 to the end\n",
      "x[2,-1:4:-1] = 400  # count back from the end and stop before reaching index 4\n",
      "print x"
     ],
     "language": "python",
     "metadata": {},
     "outputs": [
      {
       "output_type": "stream",
       "stream": "stdout",
       "text": [
        "[[ 100.    0.    0.    0.    0.    0.    0.    0.]\n",
        " [   0.    0.    0.    0.  200.  200.  200.  200.]\n",
        " [   0.    0.    0.    0.    0.  400.  400.  400.]]\n"
       ]
      }
     ],
     "prompt_number": 10
    },
    {
     "cell_type": "markdown",
     "metadata": {},
     "source": [
      "***\n",
      "###Exercise 2, Two-dimensional array indices\n",
      "Consider the array `x` shown below. "
     ]
    },
    {
     "cell_type": "code",
     "collapsed": false,
     "input": [
      "x = array([[4,2,3,2],\n",
      "           [2,4,3,1],\n",
      "           [2,4,1,3],\n",
      "           [4,1,2,3]])"
     ],
     "language": "python",
     "metadata": {},
     "outputs": [],
     "prompt_number": 5
    },
    {
     "cell_type": "markdown",
     "metadata": {},
     "source": [
      "Note how a two-dimensional array is created by specifying all values. The array still gets passed one list. But the list itself consists of four lists, each of which represents a row of the array. You are asked to write code to print: a) the first row of `x`, b) the first column of `x`, c) the third row of `x`, d) the last two columns of `x`, e) the four values in the upper right hand corner of `x`, f) the four values at the center of `x`"
     ]
    },
    {
     "cell_type": "code",
     "collapsed": false,
     "input": [
      "print x[0]\n",
      "print x[:,0]\n",
      "print x[2]\n",
      "print x[:,2:]\n",
      "print x[:2,2:]\n",
      "print x[1:3,1:3]"
     ],
     "language": "python",
     "metadata": {},
     "outputs": [
      {
       "output_type": "stream",
       "stream": "stdout",
       "text": [
        "[4 2 3 2]\n",
        "[4 2 2 4]\n",
        "[2 4 1 3]\n",
        "[[3 2]\n",
        " [3 1]\n",
        " [1 3]\n",
        " [2 3]]\n",
        "[[3 2]\n",
        " [3 1]]\n",
        "[[4 3]\n",
        " [4 1]]\n"
       ]
      }
     ],
     "prompt_number": 6
    },
    {
     "cell_type": "markdown",
     "metadata": {},
     "source": [
      "***"
     ]
    },
    {
     "cell_type": "markdown",
     "metadata": {},
     "source": [
      "###Images\n",
      "Two-dimensonal arrays can be visualized as images. For example, you may have an array with surface elevation data. Using the `imshow` command, you can visualize this data by drawing, for example, a red color where elevations are high, a blue color where elevations are low and yellow in between. In the example below, the array is very small (only 4 by 4), but it illustrates the general principle. A colorbar is added as a legend."
     ]
    },
    {
     "cell_type": "code",
     "collapsed": false,
     "input": [
      "x = array([[4,2,3,1],\n",
      "           [2,4,3,1],\n",
      "           [2,4,1,3],\n",
      "           [4,1,2,3]])\n",
      "xticks(range(4))\n",
      "yticks(range(4))\n",
      "imshow(x)\n",
      "colorbar(ticks=[1,2,3,4])"
     ],
     "language": "python",
     "metadata": {},
     "outputs": [
      {
       "output_type": "pyout",
       "prompt_number": 3,
       "text": [
        "<matplotlib.colorbar.Colorbar instance at 0x6538350>"
       ]
      },
      {
       "output_type": "display_data",
       "png": "[encoded data removed]",
       "text": [
        "<matplotlib.figure.Figure at 0x63e9310>"
       ]
      }
     ],
     "prompt_number": 3
    },
    {
     "cell_type": "markdown",
     "metadata": {},
     "source": [
      "Notice in the figure above, that the first row (with index [0]) of the array is shown at the top of the figure. \n",
      "In the figure above, `imshow` interpolates between the given values to create a pretty picture. If you don't want any interpolation, specify the interpolation keyword to be 'nearest'. "
     ]
    },
    {
     "cell_type": "code",
     "collapsed": false,
     "input": [
      "imshow(x,interpolation='nearest')\n",
      "xticks(range(4))\n",
      "yticks(range(4))\n",
      "colorbar(ticks=[1,2,3,4])"
     ],
     "language": "python",
     "metadata": {},
     "outputs": [
      {
       "output_type": "pyout",
       "prompt_number": 7,
       "text": [
        "<matplotlib.colorbar.Colorbar instance at 0x65660d0>"
       ]
      },
      {
       "output_type": "display_data",
       "png": "[encoded data removed]",
       "text": [
        "<matplotlib.figure.Figure at 0x642f170>"
       ]
      }
     ],
     "prompt_number": 7
    },
    {
     "cell_type": "markdown",
     "metadata": {},
     "source": [
      "In the example above, the default color map is used (it is called `jet`), which maps the highest value to red, the lowest value to blue and the numbers in between varying between green and yellow, as you can see from the colorbar. If you want other colors, you can choose one of the other color maps. To find out all the available color maps, go to <A href=\"http://matplotlib.org/examples/color/colormaps_reference.html\"  target=_blank>here</A> . To change color map, you need to import the package that contains all the color maps. We will leave details of the `import` statement for later and just use it here. After you have imported the color map package (which we call `cm` below), you can specify any of the available color maps with the `cmap` keyword. Try a few"
     ]
    },
    {
     "cell_type": "code",
     "collapsed": false,
     "input": [
      "import matplotlib.cm as cm\n",
      "imshow(x,interpolation='nearest',cmap=cm.rainbow)\n",
      "xticks(range(4))\n",
      "yticks(range(4))\n",
      "colorbar(ticks=[1,2,3,4])"
     ],
     "language": "python",
     "metadata": {},
     "outputs": [
      {
       "output_type": "pyout",
       "prompt_number": 8,
       "text": [
        "<matplotlib.colorbar.Colorbar instance at 0x6685c10>"
       ]
      },
      {
       "output_type": "display_data",
       "png": "[encoded data removed]",
       "text": [
        "<matplotlib.figure.Figure at 0x64f4750>"
       ]
      }
     ],
     "prompt_number": 8
    },
    {
     "cell_type": "markdown",
     "metadata": {},
     "source": [
      "***\n",
      "###Exercise 3, Create a first image\n",
      "Create an array of size 10 by 10. The upper left hand quadrant should get the value 4, the upper right hand quadrant the value 3, the lower right hand quadrant the value 2 and the lower left hand quadrant the value 1. First create an array of 10 by 10 using the `zeros` command, then fill each quadrant by specifying the correct index ranges. Note that the first index is the row number and runs along the vertical axis from top to bottom. The second index runs from left to right (see the figure of the example above). Do an `imshow` on your array using 'nearest' interpolation. It should give a red, yellow, light blue and dark blue box (clock wise starting in upper left) when you use the default `jet` colormap."
     ]
    },
    {
     "cell_type": "code",
     "collapsed": false,
     "input": [
      "x = zeros((10,10))\n",
      "x[:5,:5]=4\n",
      "x[:5,5:]=3\n",
      "x[5:,5:]=2\n",
      "x[5:,:5]=1\n",
      "print x\n",
      "imshow(x,interpolation='nearest')\n",
      "colorbar(ticks=[1,2,3,4])"
     ],
     "language": "python",
     "metadata": {},
     "outputs": [
      {
       "output_type": "stream",
       "stream": "stdout",
       "text": [
        "[[ 4.  4.  4.  4.  4.  3.  3.  3.  3.  3.]\n",
        " [ 4.  4.  4.  4.  4.  3.  3.  3.  3.  3.]\n",
        " [ 4.  4.  4.  4.  4.  3.  3.  3.  3.  3.]\n",
        " [ 4.  4.  4.  4.  4.  3.  3.  3.  3.  3.]\n",
        " [ 4.  4.  4.  4.  4.  3.  3.  3.  3.  3.]\n",
        " [ 1.  1.  1.  1.  1.  2.  2.  2.  2.  2.]\n",
        " [ 1.  1.  1.  1.  1.  2.  2.  2.  2.  2.]\n",
        " [ 1.  1.  1.  1.  1.  2.  2.  2.  2.  2.]\n",
        " [ 1.  1.  1.  1.  1.  2.  2.  2.  2.  2.]\n",
        " [ 1.  1.  1.  1.  1.  2.  2.  2.  2.  2.]]\n"
       ]
      },
      {
       "output_type": "pyout",
       "prompt_number": 9,
       "text": [
        "<matplotlib.colorbar.Colorbar instance at 0x68ce968>"
       ]
      },
      {
       "output_type": "display_data",
       "png": "[encoded data removed]",
       "text": [
        "<matplotlib.figure.Figure at 0x6670590>"
       ]
      }
     ],
     "prompt_number": 9
    },
    {
     "cell_type": "markdown",
     "metadata": {},
     "source": [
      "***\n",
      "***\n",
      "### Exercise 4, A slightly fancier image\n",
      "Consider the graph shown below, which roughly shows the letters TU. You are asked to create an image that is approximately TU. First create an of zeros array of 11 rows and 18 columns. Give the background value 0, the letter T value -1 and the letter U value +1."
     ]
    },
    {
     "cell_type": "code",
     "collapsed": false,
     "input": [
      "# Run this graph to see the figure that needs to be turned into an image\n",
      "plot([9,15,15,13,13,11,11,9,9],[8,8,2,2,6,6,2,2,8],'b')\n",
      "plot([2,2,4,4,6,6,8,8,2],[2,4,4,8,8,4,4,2,2],'k')\n",
      "axis('scaled')  # Makes the scale along x and y axes equal\n",
      "xlim(0,17)\n",
      "ylim(10,0)"
     ],
     "language": "python",
     "metadata": {},
     "outputs": [
      {
       "output_type": "pyout",
       "prompt_number": 7,
       "text": [
        "(10, 0)"
       ]
      },
      {
       "output_type": "display_data",
       "png": "[encoded data removed]",
       "text": [
        "<matplotlib.figure.Figure at 0x63cd070>"
       ]
      }
     ],
     "prompt_number": 7
    },
    {
     "cell_type": "markdown",
     "metadata": {},
     "source": [
      "Now do the exercise"
     ]
    },
    {
     "cell_type": "code",
     "collapsed": false,
     "input": [
      "x = zeros((11,18))\n",
      "x[2:4,2:8] = -1\n",
      "x[4:9,4:6] = -1\n",
      "x[2:9,9:11] = 1\n",
      "x[2:9,14:16] = 1\n",
      "x[7:9,11:14] = 1\n",
      "print x\n",
      "imshow(x,interpolation='nearest')\n",
      "yticks([10,8,6,4,2,0],[0,2,4,6,8,10])\n",
      "xt = xticks(range(19))"
     ],
     "language": "python",
     "metadata": {},
     "outputs": [
      {
       "output_type": "stream",
       "stream": "stdout",
       "text": [
        "[[ 0.  0.  0.  0.  0.  0.  0.  0.  0.  0.  0.  0.  0.  0.  0.  0.  0.  0.]\n",
        " [ 0.  0.  0.  0.  0.  0.  0.  0.  0.  0.  0.  0.  0.  0.  0.  0.  0.  0.]\n",
        " [ 0.  0. -1. -1. -1. -1. -1. -1.  0.  1.  1.  0.  0.  0.  1.  1.  0.  0.]\n",
        " [ 0.  0. -1. -1. -1. -1. -1. -1.  0.  1.  1.  0.  0.  0.  1.  1.  0.  0.]\n",
        " [ 0.  0.  0.  0. -1. -1.  0.  0.  0.  1.  1.  0.  0.  0.  1.  1.  0.  0.]\n",
        " [ 0.  0.  0.  0. -1. -1.  0.  0.  0.  1.  1.  0.  0.  0.  1.  1.  0.  0.]\n",
        " [ 0.  0.  0.  0. -1. -1.  0.  0.  0.  1.  1.  0.  0.  0.  1.  1.  0.  0.]\n",
        " [ 0.  0.  0.  0. -1. -1.  0.  0.  0.  1.  1.  1.  1.  1.  1.  1.  0.  0.]\n",
        " [ 0.  0.  0.  0. -1. -1.  0.  0.  0.  1.  1.  1.  1.  1.  1.  1.  0.  0.]\n",
        " [ 0.  0.  0.  0.  0.  0.  0.  0.  0.  0.  0.  0.  0.  0.  0.  0.  0.  0.]\n",
        " [ 0.  0.  0.  0.  0.  0.  0.  0.  0.  0.  0.  0.  0.  0.  0.  0.  0.  0.]]\n"
       ]
      },
      {
       "output_type": "display_data",
       "png": "[encoded data removed]",
       "text": [
        "<matplotlib.figure.Figure at 0x64fca90>"
       ]
      }
     ],
     "prompt_number": 11
    },
    {
     "cell_type": "markdown",
     "metadata": {},
     "source": [
      "***\n",
      "****\n",
      "###Exercise 5, Use fill to create TU\n",
      "Alternatively, you can create a figure with a filled T and U by using the `fill` command. `fill` takes an array of x values and an array of y values as input. The area inside the closed polygon defined by x and y is filled with the specified colors. You can specify both the fillcolor and the edgecolor (check out the help). Note that when using fill, coordinate axes will be oriented in the normal way, so the origin is at the lower left hand corner. Task: Create a figure with a black T and a U that is TU blue (find a close html color). Remove the axes using the `axis('off')` command"
     ]
    },
    {
     "cell_type": "code",
     "collapsed": false,
     "input": [
      "fill([2,2,4,4,6,6,8,8,2],[2,4,4,8,8,4,4,2,2],'k')\n",
      "fill([9,15,15,13,13,11,11,9,9],[8,8,2,2,6,6,2,2,8],'DeepSkyBlue',ec='DeepSkyBlue')\n",
      "ylim(9,1)\n",
      "xlim(1,16)\n",
      "axis('off')"
     ],
     "language": "python",
     "metadata": {},
     "outputs": [
      {
       "output_type": "pyout",
       "prompt_number": 16,
       "text": [
        "(1.0, 16.0, 9.0, 1.0)"
       ]
      },
      {
       "output_type": "display_data",
       "png": "[encoded data removed]",
       "text": [
        "<matplotlib.figure.Figure at 0x6a550f0>"
       ]
      }
     ],
     "prompt_number": 16
    },
    {
     "cell_type": "markdown",
     "metadata": {},
     "source": [
      "***\n",
      "###Exercise 6 Loading 2D data and streamplot\n",
      "Consider fluid flow around a cylinder. A description of such a flow field and some images can be found <A href=\"http://en.wikipedia.org/wiki/Potential_flow_around_a_circular_cylinder\"  target=_blank>here</A>. The velocity vector has been calculated for you for the problem of unit flow in the x-direction around a cylinder with radius 1. The velocity vector is stored on a grid of 50 by 50 points, going from x=-3 to x=3, and from y=-2 to y=2. Create an x and y grid using the command `x,y = meshgrid(xrange,yrange)`, where the `xrange` and `yrange` are one-dimensional arrays that can be specified with the `linspace` command. Next, use `loadtxt` to load the velocity in x and y directions  from the files `vx_cylinder.dat` and `vy_cylinder.dat`. Create a very cool looking plot of the flow lines around the cylinder with the command `streamplot(x,y,vx,vy)`. Finally, add a filled circular area with the `fill` command, by specifying something like 100 points around the circumference of the cylinder (this requires some thought).\n"
     ]
    },
    {
     "cell_type": "code",
     "collapsed": false,
     "input": [
      "x,y = meshgrid(linspace(-3,3,50),linspace(-2,2,50))\n",
      "vx = loadtxt('vx_cylinder.dat')\n",
      "vy = loadtxt('vy_cylinder.dat')\n",
      "streamplot(x,y,vx,vy)\n",
      "fill(cos(linspace(0,2*pi,100)),sin(linspace(0,2*pi,100)))"
     ],
     "language": "python",
     "metadata": {},
     "outputs": [
      {
       "output_type": "pyout",
       "prompt_number": 4,
       "text": [
        "[<matplotlib.patches.Polygon at 0x6883f50>]"
       ]
      },
      {
       "output_type": "display_data",
       "png": "[encoded data removed]",
       "text": [
        "<matplotlib.figure.Figure at 0x6883330>"
       ]
      }
     ],
     "prompt_number": 4
    },
    {
     "cell_type": "markdown",
     "metadata": {},
     "source": [
      "***"
     ]
    },
    {
     "cell_type": "code",
     "collapsed": false,
     "input": [],
     "language": "python",
     "metadata": {},
     "outputs": []
    }
   ],
   "metadata": {}
  }
 ]
}