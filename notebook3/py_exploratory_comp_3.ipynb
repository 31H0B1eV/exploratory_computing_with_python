{
 "metadata": {
  "name": ""
 },
 "nbformat": 3,
 "nbformat_minor": 0,
 "worksheets": [
  {
   "cells": [
    {
     "cell_type": "markdown",
     "metadata": {},
     "source": [
      "# Exploratory Computing with Python\n",
      "## Notebook 3: Loops and `if/else` Statements"
     ]
    },
    {
     "cell_type": "markdown",
     "metadata": {},
     "source": [
      "As we will be using `pylab` again, we start by importing it here"
     ]
    },
    {
     "cell_type": "code",
     "collapsed": false,
     "input": [
      "%pylab inline"
     ],
     "language": "python",
     "metadata": {},
     "outputs": [
      {
       "output_type": "stream",
       "stream": "stdout",
       "text": [
        "Populating the interactive namespace from numpy and matplotlib\n"
       ]
      }
     ],
     "prompt_number": 1
    },
    {
     "cell_type": "markdown",
     "metadata": {},
     "source": [
      "###Basic `for` loop\n",
      "Loops are used to execute a command repeatedly. The syntax for a loop is as follows"
     ]
    },
    {
     "cell_type": "code",
     "collapsed": false,
     "input": [
      "for i in range(5):\n",
      "    print i,'Hello world'"
     ],
     "language": "python",
     "metadata": {},
     "outputs": [
      {
       "output_type": "stream",
       "stream": "stdout",
       "text": [
        "0 Hello world\n",
        "1 Hello world\n",
        "2 Hello world\n",
        "3 Hello world\n",
        "4 Hello world\n"
       ]
      }
     ],
     "prompt_number": 2
    },
    {
     "cell_type": "markdown",
     "metadata": {},
     "source": [
      "The first thing to understand about the syntax shown above is that `range(5)` produces a list of 5 values starting with the number 0. It is the equivalent of `arange` but returns a list rather than an array:"
     ]
    },
    {
     "cell_type": "code",
     "collapsed": false,
     "input": [
      "print range(5)"
     ],
     "language": "python",
     "metadata": {},
     "outputs": [
      {
       "output_type": "stream",
       "stream": "stdout",
       "text": [
        "[0, 1, 2, 3, 4]\n"
       ]
      }
     ],
     "prompt_number": 3
    },
    {
     "cell_type": "markdown",
     "metadata": {},
     "source": [
      "Hence, the line \n",
      "\n",
      "`for i in range(5):` \n",
      "\n",
      "is equivalent to \n",
      "\n",
      "`for i in [0,1,2,3,4]:`\n",
      "\n",
      "A colon (`:`) needs to be placed at the \n",
      "end of the line starting with `for`. The loop starts after the colon. The next line needs to be indented. It doesn't matter how much you indent, as long as you are consistent. The notebook indents automatically for you, so stick with that. The entire block of indented code is executed before it goes to the next value in the list. To indicate the end of the loop, you simply stop indenting. \n",
      "\n"
     ]
    },
    {
     "cell_type": "code",
     "collapsed": false,
     "input": [
      "for x in range(5):\n",
      "    xsquare = x**2\n",
      "    print 'x,xsquare ',x,xsquare\n",
      "print 'We are done with the loop'"
     ],
     "language": "python",
     "metadata": {},
     "outputs": [
      {
       "output_type": "stream",
       "stream": "stdout",
       "text": [
        "x,xsquare  0 0\n",
        "x,xsquare  1 1\n",
        "x,xsquare  2 4\n",
        "x,xsquare  3 9\n",
        "x,xsquare  4 16\n",
        "We are done with the loop\n"
       ]
      }
     ],
     "prompt_number": 4
    },
    {
     "cell_type": "markdown",
     "metadata": {},
     "source": [
      "A loop can be used to fill an array. Let's compute $y=\\cos(x)$ where $x$ is an array that varies from 0 to $2\\pi$ with 100 points. We already know, of course, that this can be done with one statement (`y=cos(x)`). Sometimes this is not possible, however, so we also need to learn how to fill an array with a loop. First we have to create the array `y` (for example filled with zeros using the `zeros_like` function) and then fill it with the correct values by looping through all values of `x`. The counter in the loop (the variable `i` in the code below) is used as the index of the array that is filled."
     ]
    },
    {
     "cell_type": "code",
     "collapsed": false,
     "input": [
      "x = linspace(0,2*pi,100)\n",
      "y = zeros_like(x)  # similar to zeros(shape(x))\n",
      "for i in range(len(x)):\n",
      "    y[i] = cos(x[i])\n",
      "plot(x,y)"
     ],
     "language": "python",
     "metadata": {},
     "outputs": [
      {
       "metadata": {},
       "output_type": "pyout",
       "prompt_number": 5,
       "text": [
        "[<matplotlib.lines.Line2D at 0x3047cb0>]"
       ]
      },
      {
       "metadata": {},
       "output_type": "display_data",
       "png": "[encoded data removed]",
       "text": [
        "<matplotlib.figure.Figure at 0x30145b0>"
       ]
      }
     ],
     "prompt_number": 5
    },
    {
     "cell_type": "markdown",
     "metadata": {},
     "source": [
      "###Exercise 1.  <a name=\"back1\"></a>First `for` loop\n",
      "Create a list with the names of the months. Create a second list with the number of days in each month (for a regular year). Create a `for` loop that prints:\n",
      "\n",
      "`The number of days in MONTH is XX`\n",
      "\n",
      "where, of course, you print the correct name of the months for `MONTH` and the correct number of days for `XX`."
     ]
    },
    {
     "cell_type": "code",
     "collapsed": false,
     "input": [],
     "language": "python",
     "metadata": {},
     "outputs": [],
     "prompt_number": 5
    },
    {
     "cell_type": "markdown",
     "metadata": {},
     "source": [
      "<a href=\"#ex1answer\">Answer for Exercise 1</a>"
     ]
    },
    {
     "cell_type": "markdown",
     "metadata": {},
     "source": [
      "###`if`/`else` statements\n",
      "As we have seen, a basic `if` statement can be used to perform a task based on whether a condition is `True`. The `if` statement can be followed by an `else` statement, which is executed if the condition after `if` is `False`. For example"
     ]
    },
    {
     "cell_type": "code",
     "collapsed": false,
     "input": [
      "a = 4\n",
      "if a < 3:\n",
      "    print 'a is smaller than 3'\n",
      "else:\n",
      "    print 'a is not smaller than 3'"
     ],
     "language": "python",
     "metadata": {},
     "outputs": [
      {
       "output_type": "stream",
       "stream": "stdout",
       "text": [
        "a is not smaller than 3\n"
       ]
      }
     ],
     "prompt_number": 6
    },
    {
     "cell_type": "markdown",
     "metadata": {},
     "source": [
      "You can even extend the `else` by adding one or more conditions with the `elif` command which is short for 'else if'"
     ]
    },
    {
     "cell_type": "code",
     "collapsed": false,
     "input": [
      "a = 4\n",
      "if a < 4:\n",
      "    print 'a is smaller than 4'\n",
      "elif a > 4:\n",
      "    print 'a is larger than 4'\n",
      "else:\n",
      "    print 'a is equal to 4'"
     ],
     "language": "python",
     "metadata": {},
     "outputs": [
      {
       "output_type": "stream",
       "stream": "stdout",
       "text": [
        "a is equal to 4\n"
       ]
      }
     ],
     "prompt_number": 7
    },
    {
     "cell_type": "markdown",
     "metadata": {},
     "source": [
      "###Exercise 2. <a name=\"back2\"></a>Combination of `for` loop with `if` statement\n",
      "Consider the function\n",
      "\n",
      "$\\begin{split}\n",
      "y &= \\cos(x) \\qquad \\text{for} \\qquad x < 0 \\\\\n",
      "y &= \\exp(-x) \\qquad \\text{for} \\qquad x \\le 0 \\\\\n",
      "\\end{split}$\n",
      "\n",
      "Compute $y$ for $x$ going from $-2\\pi$ to $2\\pi$ with 100 points and make a graph. Make sure the $x$-axis goes from $-2\\pi$ to $2\\pi$."
     ]
    },
    {
     "cell_type": "code",
     "collapsed": false,
     "input": [],
     "language": "python",
     "metadata": {},
     "outputs": [],
     "prompt_number": 7
    },
    {
     "cell_type": "markdown",
     "metadata": {},
     "source": [
      "<a href=\"#ex2answer\">Answer for Exercise 2</a>"
     ]
    },
    {
     "cell_type": "markdown",
     "metadata": {},
     "source": [
      "###Exercise 3. <a name=\"back3\"></a>Load and loop through temperature data\n",
      "Load the temperature data for Holland from the data file used earlier. Loop through all monthly temperatures and print a message that includes the month number and states whether the monthly average temperature is above or below 10 degrees"
     ]
    },
    {
     "cell_type": "code",
     "collapsed": false,
     "input": [],
     "language": "python",
     "metadata": {},
     "outputs": [],
     "prompt_number": 7
    },
    {
     "cell_type": "markdown",
     "metadata": {},
     "source": [
      "<a href=\"#ex3answer\">Answer for Exercise 3</a>"
     ]
    },
    {
     "cell_type": "markdown",
     "metadata": {},
     "source": [
      "###Looping and summation\n",
      "One application of a loop is to compute the sum of all the values in an array. Consider, for example, the array `data` with 8 values. We will compute the sum of all values in `data`. We first define a variable `datasum` and assign it the value 0. Next, we loop through all the values in `data` and add the value to `datasum`:"
     ]
    },
    {
     "cell_type": "code",
     "collapsed": false,
     "input": [
      "data = array([1,3,2,5,7,3,4,2])\n",
      "datasum = 0\n",
      "for i in range(len(data)):\n",
      "    datasum = datasum + data[i]\n",
      "    print 'i,datasum: ',i,datasum\n",
      "print 'total sum of data: ',datasum"
     ],
     "language": "python",
     "metadata": {},
     "outputs": [
      {
       "output_type": "stream",
       "stream": "stdout",
       "text": [
        "i,datasum:  0 1\n",
        "i,datasum:  1 4\n",
        "i,datasum:  2 6\n",
        "i,datasum:  3 11\n",
        "i,datasum:  4 18\n",
        "i,datasum:  5 21\n",
        "i,datasum:  6 25\n",
        "i,datasum:  7 27\n",
        "total sum of data:  27\n"
       ]
      }
     ],
     "prompt_number": 8
    },
    {
     "cell_type": "markdown",
     "metadata": {},
     "source": [
      "Note that the statement \n",
      "\n",
      "`datasum = datasum + data[i]` \n",
      "\n",
      "means that `data[i]` is added to the current value of `datasum` and that the result is assigned to `datasum`. There is actually a shorter syntax for the same statement: \n",
      "\n",
      "`datasum += data[i]`\n",
      "\n",
      "The `+=` command means: add whatever is on the right side of the `+=` sign to whatever is on the left side. You can use whichever syntax you are most comfortable with. "
     ]
    },
    {
     "cell_type": "markdown",
     "metadata": {},
     "source": [
      "###Exercise 4.  <a name=\"back4\"></a>Running total\n",
      "For the data of the previous example, compute the running total. Hence, the result should be an array with the same length as `data` where item `i` is the sum of all values in the array `data` up to and including `data[i]`. Print both the array `data` and the array with the running total to the screen."
     ]
    },
    {
     "cell_type": "code",
     "collapsed": false,
     "input": [],
     "language": "python",
     "metadata": {},
     "outputs": [],
     "prompt_number": 8
    },
    {
     "cell_type": "markdown",
     "metadata": {},
     "source": [
      "<a href=\"#ex4answer\">Answer for Exercise 4</a>"
     ]
    },
    {
     "cell_type": "markdown",
     "metadata": {},
     "source": [
      "###Finding the maximum value the hard way\n",
      "Next, let's find the maximum in the array `data` and the index of the maximum value. For illustration purposes, we will do this the hard way by using a loop and an if statement. First we create a variable `maxvalue` that contains the maximum value and set it initially to a very small number, and a variable `maxindex` that is the index of the maximum value and is initially set to None. Then we loop through all values in `data` and update the `maxvalue` and `maxindex` everytime we find a larger value than the current `maxvalue`"
     ]
    },
    {
     "cell_type": "code",
     "collapsed": false,
     "input": [
      "maxvalue = -1e8\n",
      "maxindex = None\n",
      "for i in range(len(data)):\n",
      "    if data[i] > maxvalue:\n",
      "        maxvalue = data[i]\n",
      "        maxindex = i\n",
      "print 'the maximum value is ',maxvalue\n",
      "print 'the index of the maximum value is ',maxindex"
     ],
     "language": "python",
     "metadata": {},
     "outputs": [
      {
       "output_type": "stream",
       "stream": "stdout",
       "text": [
        "the maximum value is  7\n",
        "the index of the maximum value is  4\n"
       ]
      }
     ],
     "prompt_number": 9
    },
    {
     "cell_type": "markdown",
     "metadata": {},
     "source": [
      "For this example, it is easy to check whether these numbers are correct by looking at the `data` array. But there are, of course, functions available (in the numpy package) to find the maximum value and the index of the maximum value: `amax` returns the maximum value of an array, and `argmax` returns the index of the maximum of the array. There are similar functions if you are interested in the mimimum value."
     ]
    },
    {
     "cell_type": "code",
     "collapsed": false,
     "input": [
      "print 'the maximum value is ',amax(data)\n",
      "print 'the index of the maximum value is ',argmax(data)"
     ],
     "language": "python",
     "metadata": {},
     "outputs": [
      {
       "output_type": "stream",
       "stream": "stdout",
       "text": [
        "the maximum value is  7\n",
        "the index of the maximum value is  4\n"
       ]
      }
     ],
     "prompt_number": 10
    },
    {
     "cell_type": "markdown",
     "metadata": {},
     "source": [
      "### Exercise 5, <a name=\"back5\"></a>Month closest to 15 degrees\n",
      "Find the month in which the average monthly temperature in Holland is closest to 15 degrees. Apply the approach described above by looping through all values and use an `if` statement inside the loop. You may also want to use the `abs` function to compute the absolute value of a number. Chek your answer by using an alternative method that doesn't require a loop and an `if` statement."
     ]
    },
    {
     "cell_type": "code",
     "collapsed": false,
     "input": [],
     "language": "python",
     "metadata": {},
     "outputs": [],
     "prompt_number": 10
    },
    {
     "cell_type": "markdown",
     "metadata": {},
     "source": [
      "<a href=\"#ex5answer\">Answer for Exercise 5</a>"
     ]
    },
    {
     "cell_type": "markdown",
     "metadata": {},
     "source": [
      "### Nested loops\n",
      "It is also possible to have loops inside loops. These are called nested loops. For example, consider the array `data` with 3 rows and 4 columns shown below. We want to compute the sum of the values in each row and we are going to do this using a double loop. First, we make an array of zeros called `rowtotal` of length 3 (one value for each row of the array `data`). Next, we loop through each row. For each row inside the loop, we start another loop that goes through all the columns and adds the value to the array rowtotal for that row."
     ]
    },
    {
     "cell_type": "code",
     "collapsed": false,
     "input": [
      "data = array([[1,2,3,5],\n",
      "              [4,8,6,4],\n",
      "              [3,5,4,6]])\n",
      "rowtotal = zeros(3)\n",
      "for irow in range(3):\n",
      "    for jcol in range(4):\n",
      "        rowtotal[irow] += data[irow,jcol]\n",
      "        # longer alternative:\n",
      "        #rowtotal[irow] = rowtotal[irow] + data[irow,jcol]\n",
      "print rowtotal"
     ],
     "language": "python",
     "metadata": {},
     "outputs": [
      {
       "output_type": "stream",
       "stream": "stdout",
       "text": [
        "[ 11.  22.  18.]\n"
       ]
      }
     ],
     "prompt_number": 11
    },
    {
     "cell_type": "markdown",
     "metadata": {},
     "source": [
      "After running the code above, first make sure that the answer is correct. Next, note that it is important to set the values of `rowtotal` to 0 before starting the loops, as we are going to add to these values to compute the sum of each row. In the code, we use two loops, so we have to indent twice. "
     ]
    },
    {
     "cell_type": "markdown",
     "metadata": {},
     "source": [
      "###Breaks and while\n",
      "A common task is to find the position of a value in a sorted table (e.g., a list or array). \n",
      "For example, determine between which two numbers the number 6 falls in the sequence `[1,4,5,8,9]`. \n",
      "I know, it is between `5` and `8`, but what if the list is long? Then you really want a routine to do that.\n",
      "To find the position in the list, we need to loop through the list and break out of the loop once we have found the position.\n",
      "For this, Python has the command `break`."
     ]
    },
    {
     "cell_type": "code",
     "collapsed": false,
     "input": [
      "x = [1,4,5,8,9]\n",
      "a = 6\n",
      "for i in range(len(x)):\n",
      "    if a < x[i]:\n",
      "        break\n",
      "print 'a is between ',x[i-1],' and ',x[i]"
     ],
     "language": "python",
     "metadata": {},
     "outputs": [
      {
       "output_type": "stream",
       "stream": "stdout",
       "text": [
        "a is between  5  and  8\n"
       ]
      }
     ],
     "prompt_number": 12
    },
    {
     "cell_type": "markdown",
     "metadata": {},
     "source": [
      "There is another way of coding this using a `while` loop. Let's first look at the while loop for the same code as above"
     ]
    },
    {
     "cell_type": "code",
     "collapsed": false,
     "input": [
      "x = [1,4,5,8,9]\n",
      "a = 6\n",
      "i = 0\n",
      "while a >= x[i]:\n",
      "    i = i + 1\n",
      "print 'a is between ',x[i-1],' and ',x[i]"
     ],
     "language": "python",
     "metadata": {},
     "outputs": [
      {
       "output_type": "stream",
       "stream": "stdout",
       "text": [
        "a is between  5  and  8\n"
       ]
      }
     ],
     "prompt_number": 13
    },
    {
     "cell_type": "markdown",
     "metadata": {},
     "source": [
      "In the `while` loop, the comparison is done at the beginning of the loop, while the counter (in this case `i`) is updated inside the loop. Either a loop with a break or a while loop with a counter works fine, but `while` loops may be tricky in some cases, as they can result in infinite loops when you have an error in your code. Once you are in an infinite loop (one that never stops), click on the [Kernel] menu item at the top of the window and select [Restart]. This will end your Python session and start a new one. When you print something to the screen in your while loop, it may not be possible to break out of the loop and you may need to end the program."
     ]
    },
    {
     "cell_type": "markdown",
     "metadata": {},
     "source": [
      "###Strings\n",
      "Strings are a very versatile data type, and we can easily spend an entire Notebook on strings. \n",
      "We will only make limited use of strings, so we keep treatment here to a bare minimum. Strings are like tuples in that every character in a string has an index. Each character or range of characters can be accessed, just like for tuples, but they cannot be changed. A string also has a length. "
     ]
    },
    {
     "cell_type": "code",
     "collapsed": false,
     "input": [
      "text1 = 'Goodmorning everybody'\n",
      "print len(text1)\n",
      "print text1[0]\n",
      "print text1[0:12]"
     ],
     "language": "python",
     "metadata": {},
     "outputs": [
      {
       "output_type": "stream",
       "stream": "stdout",
       "text": [
        "21\n",
        "G\n",
        "Goodmorning \n"
       ]
      }
     ],
     "prompt_number": 14
    },
    {
     "cell_type": "markdown",
     "metadata": {},
     "source": [
      "When you add two strings, they are put back to back. When you want to combine text with a variable, you first need to change the variable to a string and then add the two strings"
     ]
    },
    {
     "cell_type": "code",
     "collapsed": false,
     "input": [
      "newtext = text1 + ' in the class'  # Adding two srings\n",
      "print newtext\n",
      "a = 7\n",
      "mes = 'The magic number is ' + str(a)  # Combining strings and numbers\n",
      "print mes"
     ],
     "language": "python",
     "metadata": {},
     "outputs": [
      {
       "output_type": "stream",
       "stream": "stdout",
       "text": [
        "Goodmorning everybody in the class\n",
        "The magic number is 7\n"
       ]
      }
     ],
     "prompt_number": 15
    },
    {
     "cell_type": "markdown",
     "metadata": {},
     "source": [
      "Comparisons work on strings just like they work on numbers. They start comparing the first character in a string and only go to the next character when the comparison of the first characters doesn't give a result. So the letter 'a' is smaller than 'b', 'b' is smaller than 'c', etc. But be careful, in the order of things, the upper case characters are smaller than all lower case characters! So 'A' is smaller than 'a', but also than 'm' or any other lower case character. Make sure you understand the following statements"
     ]
    },
    {
     "cell_type": "code",
     "collapsed": false,
     "input": [
      "print 'delft' < 'eindhoven'  # True as 'd' is smaller than 'e'\n",
      "print 'dalft' < 'delft'      # True as 'a' is smaller than 'e'\n",
      "print 'delft' == 'Delft'     # False as lower and upper case are not equal\n",
      "print 'Delft' < 'delft'      # True as 'D' is smaller than 'd'\n",
      "print 'Delft' < 'eindhoven'  # Also True, as 'D' is smaller than 'e' or any lower other lower case character"
     ],
     "language": "python",
     "metadata": {},
     "outputs": [
      {
       "output_type": "stream",
       "stream": "stdout",
       "text": [
        "True\n",
        "True\n",
        "False\n",
        "True\n",
        "True\n"
       ]
      }
     ],
     "prompt_number": 16
    },
    {
     "cell_type": "markdown",
     "metadata": {},
     "source": [
      "###Exercise 6, <a name=\"back6\"></a>Find position of your name in a list\n",
      "Write a script that figures out between which two names your name falls in the list\n",
      "`['Aaldrich', 'Babette', 'Chris', 'Franka', 'Joe', 'Louisa', 'Pierre', 'Simone', 'Tarek', 'Yvonne', 'Zu']` "
     ]
    },
    {
     "cell_type": "code",
     "collapsed": false,
     "input": [],
     "language": "python",
     "metadata": {},
     "outputs": [],
     "prompt_number": 16
    },
    {
     "cell_type": "markdown",
     "metadata": {},
     "source": [
      "<a href=\"#ex6answer\">Answer for Exercise 6</a>"
     ]
    },
    {
     "cell_type": "markdown",
     "metadata": {},
     "source": [
      "###Exercise 7,  <a name=\"back7\"></a>Load rainfall data and compute monthly totals\n",
      "In this exercise we are going to compute the total monthly rainfall for 2012 in the city of Delft in The Netherlands using daily rainfall measurements. But we need to explain a few things first. The data is obtained from the website of the Royal Dutch Meteorological Society (KNMI) and is given in the file `rainfall_delft_2012.dat`. We will need to use a few keyword arguments to load this file into Python using `loadtxt`. First open the file in a text editor to see what the file looks like (for example, you can do File and Open in CanopyExpress to open the file in the Canopy editor). At the top of the file, an explanation is given of the data in the file. Read this. The data starts at line 25, so when we load the data we should skip the first 24 lines with the keyword `skiprows`. The data is separated with commas. `loadtxt` uses a space as the default delimiter, so we should specify the delimiter as `','` (you need the quotes). A final annoying format of the provided datafile is that there is also a comma after the last value of each day. `loadtxt` expects another value after each comma. To avoid that problem we can tell `loadtxt` which columns of the data to use. In this case the date is given in the column with index 1 (the first column has index 0) and the rainfall is in the column with index 2, so we can specify the keyword argument `usecols=(1,2)`. "
     ]
    },
    {
     "cell_type": "code",
     "collapsed": false,
     "input": [
      "rain = loadtxt('rainfall_delft_2012.dat',skiprows=24,delimiter=',',usecols=(1,2))"
     ],
     "language": "python",
     "metadata": {},
     "outputs": [],
     "prompt_number": 17
    },
    {
     "cell_type": "markdown",
     "metadata": {},
     "source": [
      "Once you succeed in doing this, check the shape of the array you loaded. It should have 366 rows (yes, 2012 was a leap year) and 2 columns. Next, compute the total rainfall for each month, similar to computing the sum of each row in the example above. The difference with the example is that all data is in one large array and that, unfortunately, the number of days is different for each month (who ever came up with that?). The date is stored in the format yyyymmdd. What we want to know is the mm part, which is the number of the month. To extract this, we use a three-step approach. First, we convert the number into a string. Next we take index 4 and 5 of the string (recall, indices start at 0), and finaly we convert these two characters back to an integer number with the `int` command. For example, let's extract the number of the month from April 15 2012. The date is stored as 20120415."
     ]
    },
    {
     "cell_type": "code",
     "collapsed": false,
     "input": [
      "date = 20120415\n",
      "date_string = str(date)\n",
      "print date_string\n",
      "month_string = date_string[4:6] \n",
      "print month_string\n",
      "month_number = int(month_string)\n",
      "print month_number"
     ],
     "language": "python",
     "metadata": {},
     "outputs": [
      {
       "output_type": "stream",
       "stream": "stdout",
       "text": [
        "20120415\n",
        "04\n",
        "4\n"
       ]
      }
     ],
     "prompt_number": 18
    },
    {
     "cell_type": "markdown",
     "metadata": {},
     "source": [
      "We can do this entire conversion in one line:"
     ]
    },
    {
     "cell_type": "code",
     "collapsed": false,
     "input": [
      "date = 20120415\n",
      "month_number = int( str(date)[4:6] )\n",
      "print month_number"
     ],
     "language": "python",
     "metadata": {},
     "outputs": [
      {
       "output_type": "stream",
       "stream": "stdout",
       "text": [
        "4\n"
       ]
      }
     ],
     "prompt_number": 19
    },
    {
     "cell_type": "markdown",
     "metadata": {},
     "source": [
      "Now you are ready to compute the total monthly rainfall for each month in 2012. Once you have computed it, print it to the screen and also make a plot of total monthly rainfall vs. month number. Use a `bar` plot (type `help(bar)`)."
     ]
    },
    {
     "cell_type": "code",
     "collapsed": false,
     "input": [],
     "language": "python",
     "metadata": {},
     "outputs": [],
     "prompt_number": 19
    },
    {
     "cell_type": "markdown",
     "metadata": {},
     "source": [
      "<a href=\"#ex6answer\">Answer for Exercise 6</a>"
     ]
    },
    {
     "cell_type": "markdown",
     "metadata": {},
     "source": [
      "###Answers to the exercises"
     ]
    },
    {
     "cell_type": "markdown",
     "metadata": {},
     "source": [
      "<a name=\"ex1answer\">Answer to Exercise 1</a>"
     ]
    },
    {
     "cell_type": "code",
     "collapsed": false,
     "input": [
      "months = ['January','February','March','April','May','June','July','August','September','October','November','December']\n",
      "days = [31,28,31,30,31,30,31,31,30,31,30,31]\n",
      "for i in range(12):\n",
      "    print 'The number of days in',months[i],'is',days[i]"
     ],
     "language": "python",
     "metadata": {},
     "outputs": [
      {
       "output_type": "stream",
       "stream": "stdout",
       "text": [
        "The number of days in January is 31\n",
        "The number of days in February is 28\n",
        "The number of days in March is 31\n",
        "The number of days in April is 30\n",
        "The number of days in May is 31\n",
        "The number of days in June is 30\n",
        "The number of days in July is 31\n",
        "The number of days in August is 31\n",
        "The number of days in September is 30\n",
        "The number of days in October is 31\n",
        "The number of days in November is 30\n",
        "The number of days in December is 31\n"
       ]
      }
     ],
     "prompt_number": 24
    },
    {
     "cell_type": "markdown",
     "metadata": {},
     "source": [
      "<a href=\"#back1\">Back to Exercise 1</a>\n",
      "\n",
      "<a name=\"ex2answer\">Answer to Exercise 2</a>"
     ]
    },
    {
     "cell_type": "code",
     "collapsed": false,
     "input": [
      "x = linspace(-2*pi,2*pi,100)\n",
      "y = zeros_like(x)\n",
      "for i in range(100):\n",
      "    if x[i] < 0:\n",
      "        y[i] = cos(x[i])\n",
      "    else:\n",
      "        y[i] = exp(-x[i])\n",
      "plot(x,y)\n",
      "xlim(-2*pi,2*pi)"
     ],
     "language": "python",
     "metadata": {},
     "outputs": [
      {
       "metadata": {},
       "output_type": "pyout",
       "prompt_number": 25,
       "text": [
        "(-6.283185307179586, 6.283185307179586)"
       ]
      },
      {
       "metadata": {},
       "output_type": "display_data",
       "png": "[encoded data removed]",
       "text": [
        "<matplotlib.figure.Figure at 0x3025730>"
       ]
      }
     ],
     "prompt_number": 25
    },
    {
     "cell_type": "markdown",
     "metadata": {},
     "source": [
      "<a href=\"#back2\">Back to Exercise 2</a>\n",
      "\n",
      "<a name=\"ex3answer\">Answer to Exercise 3</a>"
     ]
    },
    {
     "cell_type": "code",
     "collapsed": false,
     "input": [
      "temperature = loadtxt('holland_temperature.dat')\n",
      "for i in range(len(temperature)):\n",
      "    if temperature[i] < 10:\n",
      "        print 'average monthly temperature in month ',i+1,' is less than 10 degrees'\n",
      "    else:\n",
      "        print 'average monthly temperature in month ',i+1,' is more than 10 degrees'"
     ],
     "language": "python",
     "metadata": {},
     "outputs": [
      {
       "output_type": "stream",
       "stream": "stdout",
       "text": [
        "average monthly temperature in month  1  is less than 10 degrees\n",
        "average monthly temperature in month  2  is less than 10 degrees\n",
        "average monthly temperature in month  3  is less than 10 degrees\n",
        "average monthly temperature in month  4  is less than 10 degrees\n",
        "average monthly temperature in month  5  is more than 10 degrees\n",
        "average monthly temperature in month  6  is more than 10 degrees\n",
        "average monthly temperature in month  7  is more than 10 degrees\n",
        "average monthly temperature in month  8  is more than 10 degrees\n",
        "average monthly temperature in month  9  is more than 10 degrees\n",
        "average monthly temperature in month  10  is more than 10 degrees\n",
        "average monthly temperature in month  11  is less than 10 degrees\n",
        "average monthly temperature in month  12  is less than 10 degrees\n"
       ]
      }
     ],
     "prompt_number": 26
    },
    {
     "cell_type": "markdown",
     "metadata": {},
     "source": [
      "<a href=\"#back3\">Back to Exercise 3</a>\n",
      "\n",
      "<a name=\"ex4answer\">Answer to Exercise 4</a>"
     ]
    },
    {
     "cell_type": "code",
     "collapsed": false,
     "input": [
      "data = array([1,3,2,5,7,3,4,2])\n",
      "runningtotal = zeros_like(data)\n",
      "runningtotal[0] = data[0]\n",
      "for i in range(1,len(data)):\n",
      "    runningtotal[i] = runningtotal[i-1] + data[i]\n",
      "print 'data values: ',data\n",
      "print 'running total: ',runningtotal"
     ],
     "language": "python",
     "metadata": {},
     "outputs": [
      {
       "output_type": "stream",
       "stream": "stdout",
       "text": [
        "data values:  [1 3 2 5 7 3 4 2]\n",
        "running total:  [ 1  4  6 11 18 21 25 27]\n"
       ]
      }
     ],
     "prompt_number": 27
    },
    {
     "cell_type": "markdown",
     "metadata": {},
     "source": [
      "<a href=\"#back4\">Back to Exercise 4</a>\n",
      "\n",
      "<a name=\"ex5answer\">Answer to Exercise 5</a>"
     ]
    },
    {
     "cell_type": "code",
     "collapsed": false,
     "input": [
      "temperature = loadtxt('holland_temperature.dat')\n",
      "print temperature\n",
      "monthindex = -1\n",
      "tdiff = 100.0\n",
      "for i in range(12):\n",
      "    if abs(temperature[i] - 15) < tdiff:\n",
      "        monthindex = i\n",
      "        tdiff = abs(temperature[i] - 15)\n",
      "print 'Number of month closest to 15 degrees, temp: ',monthindex+1,temperature[monthindex]\n",
      "print 'Alternative method:'\n",
      "altmin = argmin(abs(temperature-15))\n",
      "print 'Number of month closest to 15 degrees, temp: ',altmin+1,temperature[altmin]"
     ],
     "language": "python",
     "metadata": {},
     "outputs": [
      {
       "output_type": "stream",
       "stream": "stdout",
       "text": [
        "[  3.1   3.3   6.2   9.2  13.1  15.6  17.9  17.5  14.5  10.7   6.7   3.7]\n",
        "Number of month closest to 15 degrees, temp:  9 14.5\n",
        "Alternative method:\n",
        "Number of month closest to 15 degrees, temp:  9 14.5\n"
       ]
      }
     ],
     "prompt_number": 28
    },
    {
     "cell_type": "markdown",
     "metadata": {},
     "source": [
      "<a href=\"#back5\">Back to Exercise 5</a>\n",
      "\n",
      "<a name=\"ex6answer\">Answer to Exercise 6</a>"
     ]
    },
    {
     "cell_type": "code",
     "collapsed": false,
     "input": [
      "x = ['Aaldrich', 'Babette', 'Chris', 'Franka', 'Joe', 'Louisa', 'Pierre', 'Simone', 'Tarek', 'Yvonne', 'Zu']\n",
      "myname = 'Mark'\n",
      "for i in range(len(x)):\n",
      "    if myname < x[i]:\n",
      "        break\n",
      "print myname,' is between ',x[i-1],' and ',x[i]"
     ],
     "language": "python",
     "metadata": {},
     "outputs": [
      {
       "output_type": "stream",
       "stream": "stdout",
       "text": [
        "Mark  is between  Louisa  and  Pierre\n"
       ]
      }
     ],
     "prompt_number": 29
    },
    {
     "cell_type": "markdown",
     "metadata": {},
     "source": [
      "<a href=\"#back6\">Back to Exercise 6</a>\n",
      "\n",
      "<a name=\"ex7answer\">Answer to Exercise 7</a>"
     ]
    },
    {
     "cell_type": "code",
     "collapsed": false,
     "input": [
      "rain = loadtxt('rainfall_delft_2012.dat',skiprows=24,delimiter=',',usecols=(1,2))\n",
      "totalrain = zeros(12)\n",
      "for i in range(366):\n",
      "    month = int(str(rain[i,0])[4:6])\n",
      "    totalrain[month-1] += rain[i,1]\n",
      "print totalrain\n",
      "bar(arange(1,13)-0.5,totalrain/10,width=1)\n",
      "xlim(0.5,12.5)\n",
      "xlabel('month number')\n",
      "ylabel('total rainfall (mm/month)')\n",
      "a=xticks(range(1,13))"
     ],
     "language": "python",
     "metadata": {},
     "outputs": [
      {
       "output_type": "stream",
       "stream": "stdout",
       "text": [
        "[  949.   275.   288.   588.   590.  1132.  1389.  1026.   549.  1879.\n",
        "   673.  1546.]\n"
       ]
      },
      {
       "metadata": {},
       "output_type": "display_data",
       "png": "[encoded data removed]",
       "text": [
        "<matplotlib.figure.Figure at 0x32a5590>"
       ]
      }
     ],
     "prompt_number": 30
    },
    {
     "cell_type": "markdown",
     "metadata": {},
     "source": [
      "<a href=\"#back7\">Back to Exercise 7</a>"
     ]
    }
   ],
   "metadata": {}
  }
 ]
}