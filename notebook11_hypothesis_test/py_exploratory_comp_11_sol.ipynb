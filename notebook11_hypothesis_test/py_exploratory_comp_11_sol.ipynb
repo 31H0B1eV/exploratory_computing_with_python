{
 "cells": [
  {
   "cell_type": "markdown",
   "metadata": {},
   "source": [
    "<figure>\n",
    "  <IMG SRC=\"https://raw.githubusercontent.com/mbakker7/exploratory_computing_with_python/master/tudelft_logo.png\" WIDTH=250 ALIGN=\"right\">\n",
    "</figure>\n",
    "\n",
    "# Exploratory Computing with Python\n",
    "*Developed by Mark Bakker*"
   ]
  },
  {
   "cell_type": "markdown",
   "metadata": {},
   "source": [
    "## Notebook 11: Distribution of the mean, hypothesis tests, and the central limit theorem\n",
    "In this notebook we first investigate the distribution of the mean of a dataset, we simulate several hypothesis tests, and finish with exploring the central limit theorem. "
   ]
  },
  {
   "cell_type": "code",
   "execution_count": 1,
   "metadata": {
    "collapsed": false
   },
   "outputs": [],
   "source": [
    "import numpy as np\n",
    "import matplotlib.pyplot as plt\n",
    "import numpy.random as rnd\n",
    "%matplotlib inline"
   ]
  },
  {
   "cell_type": "markdown",
   "metadata": {},
   "source": [
    "Consider a dataset of 100 points. The data are drawn from a normal distribution with mean 4 and standard deviation 2. As we noticed before, the sample mean of the 100 data points almost always differs from 4. And every time we generate a new set of 100 points, the mean will be somewhat different. "
   ]
  },
  {
   "cell_type": "code",
   "execution_count": 2,
   "metadata": {
    "collapsed": false
   },
   "outputs": [
    {
     "name": "stdout",
     "output_type": "stream",
     "text": [
      "mean a: 3.81300249469\n",
      "mean a: 3.81396598461\n",
      "mean a: 3.50342134298\n",
      "mean a: 4.24318110378\n",
      "mean a: 4.13656443289\n"
     ]
    }
   ],
   "source": [
    "for i in range(5):\n",
    "    a = 2 * rnd.standard_normal(100) + 4\n",
    "    print('mean a:', np.mean(a))"
   ]
  },
  {
   "cell_type": "markdown",
   "metadata": {},
   "source": [
    "In fact, the mean of the dataset itself can be considered as a random variable with a distribution of its own. "
   ]
  },
  {
   "cell_type": "markdown",
   "metadata": {},
   "source": [
    "### Sample standard deviation\n",
    "The sample standard deviation $s_n$ of a dataset of $n$ values is defined as\n",
    "\n",
    "$s_n = \\sqrt{ \\frac{1}{n-1} \\sum_{i=1}^n (x_i - \\overline{x}_n)^2 }$\n",
    "\n",
    "and can be computed with the `std` function of the `numpy` package. By default, the `std` function devides the sum by $n$ rather than by $n-1$. To divide by $n-1$, as we want for an unbiased estimate of the standard deviation, specify the keyword argument `ddof=1` in the `np.std` function."
   ]
  },
  {
   "cell_type": "markdown",
   "metadata": {},
   "source": [
    "### Exercise 1. <a name=\"back1\"></a>Histogram of the means of datasets with 100 values\n",
    "Generate 1000 datasets each with 100 values drawn from a normal distribution with mean 4 and standard deviation 2; use a seed of 22. Compute the mean of each dataset and store them in an array of length 1000. Compute the mean of the means and the standard deviation of the means, and print them to the screen. Draw a boxplot of the means. In a separate figure, draw a histogram of the means. Make sure the vertical axis of the boxplot and the horizontal axis of the histogram extend from 3 to 5."
   ]
  },
  {
   "cell_type": "code",
   "execution_count": null,
   "metadata": {
    "collapsed": false
   },
   "outputs": [],
   "source": []
  },
  {
   "cell_type": "markdown",
   "metadata": {},
   "source": [
    "<a href=\"#ex1answer\">Answers to Exercise 1</a>"
   ]
  },
  {
   "cell_type": "markdown",
   "metadata": {},
   "source": [
    "### Exercise 2. <a name=\"back2\"></a>Histogram of the means of datasets with 1000 values\n",
    "Repeat exercise 1 but now generate 1000 datasets each with 1000 values (rather than 100 values) drawn from the same normal distribution with mean 4 and standard deviation 2, and again with a seed of 22. Make sure the vertical axis of the boxplot and the horizontal axis of the histogram extend from 3 to 5, so that the graphs can be compared to the graphs you created in the previous exercise. Is the spread of the mean much smaller now as compared to the datasets consisting of only 100 values?"
   ]
  },
  {
   "cell_type": "markdown",
   "metadata": {},
   "source": [
    "<a href=\"#ex2answer\">Answers to Exercise 2</a>"
   ]
  },
  {
   "cell_type": "markdown",
   "metadata": {},
   "source": [
    "### Sample standard deviation of the sample mean\n",
    "The histogram of the means looks like the bell-shaped curve of a Normal distribution, but you may recall that it is actually a Student's $t$-distribution, also simply called a $t$-distribution. A $t$-distribution arises when estimating the mean of a normally distributed variable in situations where the sample size is relatively small and the standard deviation is unknown (as it pretty much always is in practice) and needs to be estimated from the data. \n",
    "\n",
    "The sample mean of a dataset of $n$ values is commonly written as $\\overline{x}_n$, while the sample standard deviation is written as $s_n$ (as defined above). Here, we are computing the sample standard deviation of the sample means, which we write as $\\hat{s}_n$ for a dataset of size $n$. Theoretically, the value of the sample standard deviation of the sample mean $\\hat{s}_n$ is related to the sample standard deviation as (see [here](http://en.wikipedia.org/wiki/Standard_deviation#Standard_deviation_of_the_mean))\n",
    "\n",
    "$\\hat{s}_n = s_n / \\sqrt{n}$"
   ]
  },
  {
   "cell_type": "markdown",
   "metadata": {},
   "source": [
    "### Percentiles of $t$-distribution\n",
    "You may recall that the 90% interval around the mean for a Normally distributed variable runs from $\\mu-1.64\\sigma$ to $\\mu+1.64\\sigma$. In other words, 5% of the data is expected to lie below $\\mu-1.64\\sigma$ and 5% of the data is expected to lie above $\\mu+1.64\\sigma$. What now if you forgot it is $1.64\\sigma$ to the left and right of the mean? Or what if you want to know the value for some other percentile. You may look that up in a table in a Statistics book (or on the web), or use the percent point function `ppf`, which is part of any statistical distribution function defined in the `scipy.stats` package. The `ppf` function is the inverse of the cumulative distribution function. For example, `ppf(0.05)` returns the value of the data such that the cumulative distribution function is equal to 0.05 at the returned value. To find the 5% and 95% values, type (recall that by default the `norm` distribution has mean zero and standard deviation 1; you can specify different values with the `loc` and `scale` keyword arguments, respectively)."
   ]
  },
  {
   "cell_type": "code",
   "execution_count": 3,
   "metadata": {
    "collapsed": false
   },
   "outputs": [
    {
     "name": "stdout",
     "output_type": "stream",
     "text": [
      "5% limit: -1.64485362695\n",
      "95% limit: 1.64485362695\n",
      "check if it works for 5%: 0.05\n",
      "check if it works for 95%: 0.95\n",
      "5% limit with mu=20, sig=10: 3.55146373049\n",
      "check: 0.05\n"
     ]
    }
   ],
   "source": [
    "from scipy.stats import norm\n",
    "xvalue_05 = norm.ppf(0.05)\n",
    "xvalue_95 = norm.ppf(0.95)\n",
    "print('5% limit:', xvalue_05)\n",
    "print('95% limit:', xvalue_95)\n",
    "print('check if it works for 5%:', norm.cdf(xvalue_05))\n",
    "print('check if it works for 95%:', norm.cdf(xvalue_95))\n",
    "# Next, specify a mean and standard deviation\n",
    "xvalue_05_musig = norm.ppf(0.05, loc=20, scale=10) # mu = 20, sigma = 10\n",
    "print('5% limit with mu=20, sig=10:', xvalue_05_musig)\n",
    "print('check:', norm.cdf(xvalue_05_musig, loc=20, scale=10))"
   ]
  },
  {
   "cell_type": "markdown",
   "metadata": {},
   "source": [
    "A similar function exists for the $t$ distribution. The $t$-distribution takes one additional argument: the number of degrees of freedom, which is equal to the number of data points minus 1. For example, consider a sample with 40 data points, a sample mean of 20, and a sample standard deviation of the mean of 2, then the 5 and 95 percentiles are"
   ]
  },
  {
   "cell_type": "code",
   "execution_count": 4,
   "metadata": {
    "collapsed": false
   },
   "outputs": [
    {
     "name": "stdout",
     "output_type": "stream",
     "text": [
      "5% limit:   16.630249761\n",
      "95% limit:  23.369750239\n",
      "check if it works for 5%: 0.0500000002153\n",
      "check if it works for 95%: 0.949999999785\n"
     ]
    }
   ],
   "source": [
    "from scipy.stats import t\n",
    "xvalue_05 = t.ppf(0.05, 39, loc=20, scale=2)\n",
    "xvalue_95 = t.ppf(0.95, 39, loc=20, scale=2)\n",
    "print('5% limit:  ',xvalue_05)\n",
    "print('95% limit: ',xvalue_95)\n",
    "print('check if it works for 5%:', t.cdf(xvalue_05, 39, loc=20, scale=2))\n",
    "print('check if it works for 95%:', t.cdf(xvalue_95, 39, loc=20, scale=2))"
   ]
  },
  {
   "cell_type": "markdown",
   "metadata": {},
   "source": [
    "### Exercise 3. <a name=\"back3\"></a>Count the number of means outside 95 percentile\n",
    "Go back to Exercise 1. Generate 1000 datasets each with 100 values drawn from a normal distribution with mean 4 and standard deviation 2. For each dataset, evaluate whether the sample mean is within the 95 percentile of the $t$-distribution around the true mean of 4 (the standard deviation of the sample mean is different every time, of course). Count how many times the sample mean is outside the 95 percentile around the true mean of the $t$ distribution. If the theory is correct, it should, of course, be the case for about 5% of the datasets. Try five different seeds and report the percentage of means in the dataset that is outside the 95 percentile around the true mean. "
   ]
  },
  {
   "cell_type": "code",
   "execution_count": null,
   "metadata": {
    "collapsed": false
   },
   "outputs": [],
   "source": []
  },
  {
   "cell_type": "markdown",
   "metadata": {},
   "source": [
    "<a href=\"#ex3answer\">Answers to Exercise 3</a>"
   ]
  },
  {
   "cell_type": "markdown",
   "metadata": {},
   "source": [
    "### Exercise 4. <a name=\"back4\"></a>$t$ test on dataset of 20 values\n",
    "Generate 20 datapoints from a Normal distribution with mean 39 and standard deviation 4. Use a seed of 2. Compute and report the sample mean and sample standard deviation of the dataset and the sample standard deviation of the sample mean."
   ]
  },
  {
   "cell_type": "code",
   "execution_count": null,
   "metadata": {
    "collapsed": false
   },
   "outputs": [],
   "source": []
  },
  {
   "cell_type": "markdown",
   "metadata": {},
   "source": [
    "If you computed it correctly, the mean of the 20 data points generated above is 38.16. Somebody now claims that the 20 datapoints are taken from a distribution with a mean of 40. You are asked to decide wether the true underlying mean could indeed be 40. In statistical terms, you are asked to perform a Hypothesis test, testing the null hypothesis that the mean is 40 against the alternative hypothesis that the mean is not 40 at significance level 5%. Hence, you are asked to do a two-sided $t$-test. All you can do in Hypothesis testing it trying to reject the null hypothesis, so let's try that. Most statistics books give a cookbook recipe for performing a $t$-test. Here we will visualize the $t$-test. We reject the null hypothesis if the sample mean is outside the 95% interval around the mean of the corresponding $t$-distribution. If the mean is inside the 95% interval we can only conclude that there is not enough evidence to reject the null hypothesis. Draw the probability density function of a $t$-distribution with mean 40 and standard deviation equal to the sample standard deviation of the sample mean you computed above. Draw red vertical lines indicating the left and right limits of the 95% interval around the mean. Draw a heavy black vertical line at the position of the sample mean you computed above. Decide whether you can reject the null hypothesis that the mean is 40 and add that as a title to the figure."
   ]
  },
  {
   "cell_type": "code",
   "execution_count": null,
   "metadata": {
    "collapsed": false
   },
   "outputs": [],
   "source": []
  },
  {
   "cell_type": "markdown",
   "metadata": {},
   "source": [
    "<a href=\"#ex4answer\">Answers to Exercise 4</a>"
   ]
  },
  {
   "cell_type": "markdown",
   "metadata": {},
   "source": [
    "### Exercise 5. <a name=\"back5\"></a>Hypothesis tests on Wooden beam data\n",
    "Load the data set of experiments on wooden beams stored in the file `douglas_data.csv`. First, consider the first 20 measurements of the bending strength. Compute the sample mean and the standard deviation of the sample mean. The manufacturer claims that the mean bending strength is only 50 Pa. Perform a $t$-test (significance level 5%) with null hypothesis that the mean is indeed 50 Pa and alternative hypothesis that the mean is not 50 Pa using the approach applied in Exercise 4."
   ]
  },
  {
   "cell_type": "code",
   "execution_count": null,
   "metadata": {
    "collapsed": false
   },
   "outputs": [],
   "source": []
  },
  {
   "cell_type": "markdown",
   "metadata": {},
   "source": [
    "Repeat the $t$-test above but now with all the measurements of the bending strength. Do you reach the same conclusion?"
   ]
  },
  {
   "cell_type": "code",
   "execution_count": null,
   "metadata": {
    "collapsed": false
   },
   "outputs": [],
   "source": []
  },
  {
   "cell_type": "markdown",
   "metadata": {},
   "source": [
    "<a href=\"#ex5answer\">Answers to Exercise 5</a>"
   ]
  },
  {
   "cell_type": "markdown",
   "metadata": {},
   "source": [
    "### Central limit theorem\n",
    "So far we looked at the distribution of the sample mean of a dataset while we knew that the data was taken from a normal distribution (except for the wooden beam data, but that looked very much like a Normal distribution). Such a sample mean has a Student $t$-distribtion, which approaches the Normal distribution when the dataset is large. Actually, 100 datapoints is already enough to approach the Normal distribution fairly closely. You may check this by comparing, for example, the percent point function `ppf` of a Normal distribution with a $t$-distribution with 99 degrees of freedom, or by simply plotting the pdf of both distributions:"
   ]
  },
  {
   "cell_type": "code",
   "execution_count": 5,
   "metadata": {
    "collapsed": false
   },
   "outputs": [
    {
     "name": "stdout",
     "output_type": "stream",
     "text": [
      "95 percentile Standard Normal:   1.64485362695\n",
      "95 percentile t-dist with n=99:  1.660391156\n"
     ]
    },
    {
     "data": {
      "image/png": "[encoded data removed]",
      "text/plain": [
       "<matplotlib.figure.Figure at 0x10ed04710>"
      ]
     },
     "metadata": {},
     "output_type": "display_data"
    }
   ],
   "source": [
    "print('95 percentile Standard Normal:  ',norm.ppf(0.95))\n",
    "print('95 percentile t-dist with n=99: ',t.ppf(0.95,99)) \n",
    "x = np.linspace(-4,4,100)\n",
    "y1 = norm.pdf(x)\n",
    "y2 = t.pdf(x,99)\n",
    "plt.plot(x,y1,'b',label='Normal')\n",
    "plt.plot(x,y2,'r',label='t-dist')\n",
    "plt.legend();"
   ]
  },
  {
   "cell_type": "markdown",
   "metadata": {},
   "source": [
    "The Central limit theorem now states that the distribution of the sample mean approaches the Normal distribution in the limit even if the dataset is drawn from an entirely different distribution! We are going to test this theorem by drawing numbers from a Gamma distribution. The Gamma distribution is a skewed distribution and takes a shape parameter $k$ and a scale parameter $\\theta$, and is defined for $x>0$. Details on the Gamma distribution can be found, for example [here](http://en.wikipedia.org/wiki/Gamma_distribution). Let's set the shape parameter equal to 2 and the scale parameter equal to 1 (which happens to be the default). When the scale parameter is equal to 1, the mean is equal to the shape parameter. The pdf of the Gamma distribution for these values is shown below. The mean is indicated with the red vertical line."
   ]
  },
  {
   "cell_type": "code",
   "execution_count": 6,
   "metadata": {
    "collapsed": false
   },
   "outputs": [
    {
     "data": {
      "image/png": "[encoded data removed]",
      "text/plain": [
       "<matplotlib.figure.Figure at 0x10a77f278>"
      ]
     },
     "metadata": {},
     "output_type": "display_data"
    }
   ],
   "source": [
    "from scipy.stats import gamma\n",
    "x = np.linspace(1e-6, 10, 100)\n",
    "y = gamma.pdf(x, 2, scale=1)\n",
    "plt.plot(x, y)\n",
    "plt.axvline(2, color='r');"
   ]
  },
  {
   "cell_type": "markdown",
   "metadata": {},
   "source": [
    "Random numbers may be drawn from any distribution in the `scipy.stats` package with the `rvs` function. Here, we draw 1000 numbers and add the histogram to the previous figure"
   ]
  },
  {
   "cell_type": "code",
   "execution_count": 7,
   "metadata": {
    "collapsed": false
   },
   "outputs": [
    {
     "data": {
      "image/png": "[encoded data removed]",
      "text/plain": [
       "<matplotlib.figure.Figure at 0x10a76ccf8>"
      ]
     },
     "metadata": {},
     "output_type": "display_data"
    }
   ],
   "source": [
    "x = np.linspace(1e-6, 10, 100)\n",
    "y = gamma.pdf(x, 2)\n",
    "plt.plot(x, y)\n",
    "plt.axvline(2, color='r')\n",
    "data = gamma.rvs(2, size=1000)\n",
    "plt.hist(data, bins=20, normed=True);"
   ]
  },
  {
   "cell_type": "markdown",
   "metadata": {},
   "source": [
    "### Exercise 6. <a name=\"back6\"></a>Explore Central Limit Theorem for Gamma Distribution\n",
    "Generate $N$ datasets of 20 numbers randomly drawn from a Gamma distribution with shape parameter equal to 2 and scale equal to 1. Draw a histogram of the means of the $N$ datasets using 20 bins. On the same graph, draw the pdf of the Normal distribution using the mean of means and sample standard deviation of the means; choose the limits of the $x$-axis between 0 and 4. Make 3 graphs, for $N=100,1000,10000$ and notice that the distribution starts to approach a Normal distribution. Add a title to each graph stating the number of datasets."
   ]
  },
  {
   "cell_type": "code",
   "execution_count": null,
   "metadata": {
    "collapsed": false
   },
   "outputs": [],
   "source": []
  },
  {
   "cell_type": "markdown",
   "metadata": {},
   "source": [
    "<a href=\"#ex6answer\">Answers to Exercise 6</a>"
   ]
  },
  {
   "cell_type": "markdown",
   "metadata": {},
   "source": [
    "### Answers to the exercises"
   ]
  },
  {
   "cell_type": "markdown",
   "metadata": {},
   "source": [
    "<a name=\"ex1answer\">Answers to Exercise 1</a>"
   ]
  },
  {
   "cell_type": "code",
   "execution_count": 8,
   "metadata": {
    "collapsed": false
   },
   "outputs": [
    {
     "name": "stdout",
     "output_type": "stream",
     "text": [
      "The mean of the means is: 4.00474211854\n",
      "The standard deviation of the means is: 0.190485481767\n"
     ]
    },
    {
     "data": {
      "text/plain": [
       "(3, 5)"
      ]
     },
     "execution_count": 8,
     "metadata": {},
     "output_type": "execute_result"
    },
    {
     "data": {
      "image/png": "[encoded data removed]",
      "text/plain": [
       "<matplotlib.figure.Figure at 0x11193ea20>"
      ]
     },
     "metadata": {},
     "output_type": "display_data"
    },
    {
     "data": {
      "image/png": "[encoded data removed]",
      "text/plain": [
       "<matplotlib.figure.Figure at 0x111926710>"
      ]
     },
     "metadata": {},
     "output_type": "display_data"
    }
   ],
   "source": [
    "rnd.seed(22)\n",
    "mean_of_data = np.mean(2 * rnd.standard_normal((1000, 100)) + 4, 1)\n",
    "print('The mean of the means is:', np.mean(mean_of_data))\n",
    "print('The standard deviation of the means is:', np.std(mean_of_data, ddof=1))\n",
    "plt.figure()\n",
    "plt.boxplot(mean_of_data)\n",
    "plt.ylim(3, 5)\n",
    "plt.figure()\n",
    "plt.hist(mean_of_data, normed=True)\n",
    "plt.xlim(3,5)"
   ]
  },
  {
   "cell_type": "markdown",
   "metadata": {},
   "source": [
    "<a href=\"#back1\">Back to Exercise 1</a>\n",
    "\n",
    "<a name=\"ex2answer\">Answers to Exercise 2</a>"
   ]
  },
  {
   "cell_type": "code",
   "execution_count": 9,
   "metadata": {
    "collapsed": false
   },
   "outputs": [
    {
     "name": "stdout",
     "output_type": "stream",
     "text": [
      "The mean of the means is: 4.00128131235\n",
      "The standard deviation of the means is: 0.0654148250988\n"
     ]
    },
    {
     "data": {
      "text/plain": [
       "(3, 5)"
      ]
     },
     "execution_count": 9,
     "metadata": {},
     "output_type": "execute_result"
    },
    {
     "data": {
      "image/png": "[encoded data removed]",
      "text/plain": [
       "<matplotlib.figure.Figure at 0x111a46128>"
      ]
     },
     "metadata": {},
     "output_type": "display_data"
    },
    {
     "data": {
      "image/png": "[encoded data removed]",
      "text/plain": [
       "<matplotlib.figure.Figure at 0x111c5e240>"
      ]
     },
     "metadata": {},
     "output_type": "display_data"
    }
   ],
   "source": [
    "rnd.seed(22)\n",
    "mean_of_data = np.mean(2 * rnd.standard_normal((1000, 1000)) + 4, 1)\n",
    "print('The mean of the means is:', np.mean(mean_of_data))\n",
    "print('The standard deviation of the means is:', np.std(mean_of_data, ddof=1))\n",
    "plt.figure()\n",
    "plt.boxplot(mean_of_data)\n",
    "plt.ylim(3,5)\n",
    "plt.figure()\n",
    "plt.hist(mean_of_data)\n",
    "plt.xlim(3, 5)"
   ]
  },
  {
   "cell_type": "markdown",
   "metadata": {},
   "source": [
    "<a href=\"#back2\">Back to Exercise 2</a>\n",
    "\n",
    "<a name=\"ex3answer\">Answers to Exercise 3</a>"
   ]
  },
  {
   "cell_type": "code",
   "execution_count": 10,
   "metadata": {
    "collapsed": false
   },
   "outputs": [
    {
     "name": "stdout",
     "output_type": "stream",
     "text": [
      "percentage of datasets where sample mean is outside 95 percentile: 4.0\n",
      "percentage of datasets where sample mean is outside 95 percentile: 5.8\n",
      "percentage of datasets where sample mean is outside 95 percentile: 6.2\n",
      "percentage of datasets where sample mean is outside 95 percentile: 5.9\n",
      "percentage of datasets where sample mean is outside 95 percentile: 5.7\n"
     ]
    }
   ],
   "source": [
    "from scipy.stats import t\n",
    "for s in [22, 32, 42, 52, 62]:\n",
    "    rnd.seed(s)\n",
    "    data = 2.0 * rnd.standard_normal((1000, 100)) + 4.0\n",
    "    mean = np.mean(data, 1)\n",
    "    sighat = np.std(data, axis=1, ddof=1) / np.sqrt(100)\n",
    "    count = 0\n",
    "    for i in range(1000):\n",
    "        low = t.ppf(0.025, 99, loc=4, scale=sighat[i])\n",
    "        high = t.ppf(0.975, 99, loc=4, scale=sighat[i])\n",
    "        if (mean[i] < low) or (mean[i] > high): count += 1\n",
    "    print('percentage of datasets where sample mean is outside 95 percentile:', count * 100 / 1000)"
   ]
  },
  {
   "cell_type": "markdown",
   "metadata": {},
   "source": [
    "<a href=\"#back3\">Back to Exercise 3</a>\n",
    "\n",
    "<a name=\"ex4answer\">Answers to Exercise 4</a>"
   ]
  },
  {
   "cell_type": "code",
   "execution_count": 11,
   "metadata": {
    "collapsed": false
   },
   "outputs": [
    {
     "name": "stdout",
     "output_type": "stream",
     "text": [
      "mean of the data: 38.1627400469\n",
      "std of the data: 4.46032692087\n",
      "std of the mean: 0.997359419693\n"
     ]
    }
   ],
   "source": [
    "rnd.seed(2)\n",
    "data = 4 * rnd.standard_normal(20) + 39\n",
    "mu = np.mean(data)\n",
    "sig = np.std(data, ddof=1)\n",
    "sighat = np.std(data, ddof=1) / np.sqrt(20)\n",
    "print('mean of the data:', mu)\n",
    "print('std of the data:', sig)\n",
    "print('std of the mean:', sighat)"
   ]
  },
  {
   "cell_type": "code",
   "execution_count": 12,
   "metadata": {
    "collapsed": false
   },
   "outputs": [
    {
     "data": {
      "image/png": "[encoded data removed]",
      "text/plain": [
       "<matplotlib.figure.Figure at 0x111a0e4e0>"
      ]
     },
     "metadata": {},
     "output_type": "display_data"
    }
   ],
   "source": [
    "x = np.linspace(37, 43, 100)\n",
    "y = t.pdf(x, 19, loc=40, scale=sighat)\n",
    "plt.plot(x, y)\n",
    "perc025 = t.ppf(0.025, 19, loc=40, scale=sighat)\n",
    "perc975 = t.ppf(0.975, 19, loc=40, scale=sighat)\n",
    "plt.axvline(perc025, color='r')\n",
    "plt.axvline(perc975, color='r')\n",
    "plt.axvline(mu, color='k', lw=5)\n",
    "plt.title('H0 cannot be rejected');"
   ]
  },
  {
   "cell_type": "markdown",
   "metadata": {},
   "source": [
    "<a href=\"#back4\">Back to Exercise 4</a>\n",
    "\n",
    "<a name=\"ex5answer\">Answers to Exercise 5</a>"
   ]
  },
  {
   "cell_type": "code",
   "execution_count": 13,
   "metadata": {
    "collapsed": false
   },
   "outputs": [
    {
     "name": "stdout",
     "output_type": "stream",
     "text": [
      "sample mean, standard deviation of sample mean:  69.37100000000001 3.50960830773\n"
     ]
    },
    {
     "data": {
      "image/png": "[encoded data removed]",
      "text/plain": [
       "<matplotlib.figure.Figure at 0x113091358>"
      ]
     },
     "metadata": {},
     "output_type": "display_data"
    }
   ],
   "source": [
    "from pandas import read_csv\n",
    "w = read_csv('douglas_data.csv', skiprows=[1], skipinitialspace=True)\n",
    "mu20 = np.mean(w.bstrength[:20])\n",
    "sig20 = np.std(w.bstrength[:20], ddof=1) / np.sqrt(20)\n",
    "print('sample mean, standard deviation of sample mean: ', mu20, sig20)\n",
    "x = np.linspace(30,70,100)\n",
    "y = t.pdf(x, 19, loc=50, scale=sig20)\n",
    "plt.plot(x,y)\n",
    "perc025 = t.ppf(0.025, 19, loc=50, scale=sig20)\n",
    "perc975 = t.ppf(0.975, 19, loc=50, scale=sig20)\n",
    "plt.axvline(perc025, color='r')\n",
    "plt.axvline(perc975, color='r')\n",
    "plt.axvline(mu20, color='k', lw=4)\n",
    "plt.title('H0 is rejected: mean is not 50 Pa');"
   ]
  },
  {
   "cell_type": "code",
   "execution_count": 14,
   "metadata": {
    "collapsed": false
   },
   "outputs": [
    {
     "name": "stdout",
     "output_type": "stream",
     "text": [
      "sample mean, standard deviation of sample mean:  48.65050561797753 0.903543631702\n"
     ]
    },
    {
     "data": {
      "image/png": "[encoded data removed]",
      "text/plain": [
       "<matplotlib.figure.Figure at 0x111acf128>"
      ]
     },
     "metadata": {},
     "output_type": "display_data"
    }
   ],
   "source": [
    "from pandas import read_csv\n",
    "w = read_csv('douglas_data.csv', skiprows=[1], skipinitialspace=True)\n",
    "N = len(w.bstrength)\n",
    "mu = np.mean(w.bstrength)\n",
    "sig = np.std(w.bstrength, ddof=1) / np.sqrt(N)\n",
    "print('sample mean, standard deviation of sample mean: ', mu, sig)\n",
    "x = np.linspace(30, 70, 100)\n",
    "y = t.pdf(x, N - 1, loc=50, scale=sig)\n",
    "plt.plot(x, y)\n",
    "perc025 = t.ppf(0.025, N - 1, loc=50, scale=sig)\n",
    "perc975 = t.ppf(0.975, N - 1, loc=50, scale=sig)\n",
    "plt.axvline(perc025, color='r')\n",
    "plt.axvline(perc975, color='r')\n",
    "plt.axvline(mu, color='k', lw=4)\n",
    "plt.title('Not enough evidence to reject H0: mean may very well be 50');"
   ]
  },
  {
   "cell_type": "markdown",
   "metadata": {},
   "source": [
    "<a href=\"#back5\">Back to Exercise 5</a>\n",
    "\n",
    "<a name=\"ex6answer\">Answers to Exercise 6</a>"
   ]
  },
  {
   "cell_type": "code",
   "execution_count": 15,
   "metadata": {
    "collapsed": false
   },
   "outputs": [
    {
     "data": {
      "image/png": "[encoded data removed]",
      "text/plain": [
       "<matplotlib.figure.Figure at 0x112f6db70>"
      ]
     },
     "metadata": {},
     "output_type": "display_data"
    },
    {
     "data": {
      "image/png": "[encoded data removed]",
      "text/plain": [
       "<matplotlib.figure.Figure at 0x119ed1080>"
      ]
     },
     "metadata": {},
     "output_type": "display_data"
    },
    {
     "data": {
      "image/png": "[encoded data removed]",
      "text/plain": [
       "<matplotlib.figure.Figure at 0x119f95320>"
      ]
     },
     "metadata": {},
     "output_type": "display_data"
    }
   ],
   "source": [
    "from scipy.stats import norm, gamma\n",
    "for N in [100, 1000, 10000]:\n",
    "    data = gamma.rvs(2, size=(N, 20))\n",
    "    mean_of_data = np.mean(data, 1)\n",
    "    mu = np.mean(mean_of_data)\n",
    "    sig = np.std(mean_of_data, ddof=1)\n",
    "    plt.figure()\n",
    "    plt.hist(mean_of_data, bins=20, normed=True)\n",
    "    x = np.linspace(0, 4, 100)\n",
    "    y = norm.pdf(x, loc=mu, scale=sig)\n",
    "    plt.plot(x, y, 'r')\n",
    "    plt.title('N=' + str(N))"
   ]
  },
  {
   "cell_type": "markdown",
   "metadata": {},
   "source": [
    "<a href=\"#back6\">Back to Exercise 6</a>"
   ]
  }
 ],
 "metadata": {
  "kernelspec": {
   "display_name": "Python 3",
   "language": "python",
   "name": "python3"
  },
  "language_info": {
   "codemirror_mode": {
    "name": "ipython",
    "version": 3
   },
   "file_extension": ".py",
   "mimetype": "text/x-python",
   "name": "python",
   "nbconvert_exporter": "python",
   "pygments_lexer": "ipython3",
   "version": "3.5.2"
  }
 },
 "nbformat": 4,
 "nbformat_minor": 0
}
